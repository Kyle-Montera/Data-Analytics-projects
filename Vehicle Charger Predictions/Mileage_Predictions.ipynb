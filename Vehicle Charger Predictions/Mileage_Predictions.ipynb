{
 "cells": [
  {
   "cell_type": "markdown",
   "metadata": {},
   "source": [
    "The goal of this note book is to predict the average mileage of a car based the type of charger in the engine, whether it be turbo, super, or twin charged.\n",
    "\n",
    "Initial Questions\n",
    "<br>\n",
    "- Super charger vs turbo charger advantages\n",
    "- Fuel Efficiency of each equipped\n",
    "- Type/Cost of car equipped\n",
    "- Emissions of cars equipped\n",
    "- Vehicle Class\n",
    "- Engine Displacement\n",
    "- Fuel used in a year\n",
    "\n",
    "\n",
    "<Br>\n",
    "\n",
    "\n"
   ]
  },
  {
   "cell_type": "markdown",
   "metadata": {},
   "source": [
    "## Column names/Meaning\n",
    "- enginetype - type of charger equipped\n",
    "- sCharger - if S, this vehicle is supercharged\n",
    "- tCharger - if T, this vehicle is turbocharged\n",
    "- city08 - d city MPG for fuelType1 (2), (11)\n",
    "- highway08 - highway MPG for fuelType1 (2), (11)\n",
    "- make - manufacturer (division)\n",
    "- model - model name (carline)\n",
    "- VClass - EPA vehicle size class\n",
    "- fuelType1 - fuel type 1. For single fuel vehicles, this will be the only fuel. For dual fuel vehicles, this will be the conventional fuel.\n",
    "- co2TailpipeGpm - tailpipe CO2 in grams/mile for fuelType1 (5)\n",
    "- displ - engine displacement in liters\n",
    "- barrels08 - annual petroleum consumption in barrels for fuelType1 (1)\n",
    "- cylinders - number of cylinders\n"
   ]
  },
  {
   "cell_type": "code",
   "execution_count": 2,
   "metadata": {},
   "outputs": [
    {
     "name": "stderr",
     "output_type": "stream",
     "text": [
      "/Users/KyleMontera/anaconda3/lib/python3.7/site-packages/IPython/core/interactiveshell.py:3057: DtypeWarning: Columns (68,70,71,72,73,74,76,79) have mixed types. Specify dtype option on import or set low_memory=False.\n",
      "  interactivity=interactivity, compiler=compiler, result=result)\n"
     ]
    },
    {
     "data": {
      "text/html": [
       "<div>\n",
       "<style scoped>\n",
       "    .dataframe tbody tr th:only-of-type {\n",
       "        vertical-align: middle;\n",
       "    }\n",
       "\n",
       "    .dataframe tbody tr th {\n",
       "        vertical-align: top;\n",
       "    }\n",
       "\n",
       "    .dataframe thead th {\n",
       "        text-align: right;\n",
       "    }\n",
       "</style>\n",
       "<table border=\"1\" class=\"dataframe\">\n",
       "  <thead>\n",
       "    <tr style=\"text-align: right;\">\n",
       "      <th></th>\n",
       "      <th>barrels08</th>\n",
       "      <th>barrelsA08</th>\n",
       "      <th>charge120</th>\n",
       "      <th>charge240</th>\n",
       "      <th>city08</th>\n",
       "      <th>city08U</th>\n",
       "      <th>cityA08</th>\n",
       "      <th>cityA08U</th>\n",
       "      <th>cityCD</th>\n",
       "      <th>cityE</th>\n",
       "      <th>...</th>\n",
       "      <th>mfrCode</th>\n",
       "      <th>c240Dscr</th>\n",
       "      <th>charge240b</th>\n",
       "      <th>c240bDscr</th>\n",
       "      <th>createdOn</th>\n",
       "      <th>modifiedOn</th>\n",
       "      <th>startStop</th>\n",
       "      <th>phevCity</th>\n",
       "      <th>phevHwy</th>\n",
       "      <th>phevComb</th>\n",
       "    </tr>\n",
       "  </thead>\n",
       "  <tbody>\n",
       "    <tr>\n",
       "      <th>0</th>\n",
       "      <td>15.695714</td>\n",
       "      <td>0.0</td>\n",
       "      <td>0.0</td>\n",
       "      <td>0.0</td>\n",
       "      <td>19</td>\n",
       "      <td>0.0</td>\n",
       "      <td>0</td>\n",
       "      <td>0.0</td>\n",
       "      <td>0.0</td>\n",
       "      <td>0.0</td>\n",
       "      <td>...</td>\n",
       "      <td>NaN</td>\n",
       "      <td>NaN</td>\n",
       "      <td>0.0</td>\n",
       "      <td>NaN</td>\n",
       "      <td>Tue Jan 01 00:00:00 EST 2013</td>\n",
       "      <td>Tue Jan 01 00:00:00 EST 2013</td>\n",
       "      <td>NaN</td>\n",
       "      <td>0</td>\n",
       "      <td>0</td>\n",
       "      <td>0</td>\n",
       "    </tr>\n",
       "    <tr>\n",
       "      <th>1</th>\n",
       "      <td>29.964545</td>\n",
       "      <td>0.0</td>\n",
       "      <td>0.0</td>\n",
       "      <td>0.0</td>\n",
       "      <td>9</td>\n",
       "      <td>0.0</td>\n",
       "      <td>0</td>\n",
       "      <td>0.0</td>\n",
       "      <td>0.0</td>\n",
       "      <td>0.0</td>\n",
       "      <td>...</td>\n",
       "      <td>NaN</td>\n",
       "      <td>NaN</td>\n",
       "      <td>0.0</td>\n",
       "      <td>NaN</td>\n",
       "      <td>Tue Jan 01 00:00:00 EST 2013</td>\n",
       "      <td>Tue Jan 01 00:00:00 EST 2013</td>\n",
       "      <td>NaN</td>\n",
       "      <td>0</td>\n",
       "      <td>0</td>\n",
       "      <td>0</td>\n",
       "    </tr>\n",
       "    <tr>\n",
       "      <th>2</th>\n",
       "      <td>12.207778</td>\n",
       "      <td>0.0</td>\n",
       "      <td>0.0</td>\n",
       "      <td>0.0</td>\n",
       "      <td>23</td>\n",
       "      <td>0.0</td>\n",
       "      <td>0</td>\n",
       "      <td>0.0</td>\n",
       "      <td>0.0</td>\n",
       "      <td>0.0</td>\n",
       "      <td>...</td>\n",
       "      <td>NaN</td>\n",
       "      <td>NaN</td>\n",
       "      <td>0.0</td>\n",
       "      <td>NaN</td>\n",
       "      <td>Tue Jan 01 00:00:00 EST 2013</td>\n",
       "      <td>Tue Jan 01 00:00:00 EST 2013</td>\n",
       "      <td>NaN</td>\n",
       "      <td>0</td>\n",
       "      <td>0</td>\n",
       "      <td>0</td>\n",
       "    </tr>\n",
       "    <tr>\n",
       "      <th>3</th>\n",
       "      <td>29.964545</td>\n",
       "      <td>0.0</td>\n",
       "      <td>0.0</td>\n",
       "      <td>0.0</td>\n",
       "      <td>10</td>\n",
       "      <td>0.0</td>\n",
       "      <td>0</td>\n",
       "      <td>0.0</td>\n",
       "      <td>0.0</td>\n",
       "      <td>0.0</td>\n",
       "      <td>...</td>\n",
       "      <td>NaN</td>\n",
       "      <td>NaN</td>\n",
       "      <td>0.0</td>\n",
       "      <td>NaN</td>\n",
       "      <td>Tue Jan 01 00:00:00 EST 2013</td>\n",
       "      <td>Tue Jan 01 00:00:00 EST 2013</td>\n",
       "      <td>NaN</td>\n",
       "      <td>0</td>\n",
       "      <td>0</td>\n",
       "      <td>0</td>\n",
       "    </tr>\n",
       "    <tr>\n",
       "      <th>4</th>\n",
       "      <td>17.347895</td>\n",
       "      <td>0.0</td>\n",
       "      <td>0.0</td>\n",
       "      <td>0.0</td>\n",
       "      <td>17</td>\n",
       "      <td>0.0</td>\n",
       "      <td>0</td>\n",
       "      <td>0.0</td>\n",
       "      <td>0.0</td>\n",
       "      <td>0.0</td>\n",
       "      <td>...</td>\n",
       "      <td>NaN</td>\n",
       "      <td>NaN</td>\n",
       "      <td>0.0</td>\n",
       "      <td>NaN</td>\n",
       "      <td>Tue Jan 01 00:00:00 EST 2013</td>\n",
       "      <td>Tue Jan 01 00:00:00 EST 2013</td>\n",
       "      <td>NaN</td>\n",
       "      <td>0</td>\n",
       "      <td>0</td>\n",
       "      <td>0</td>\n",
       "    </tr>\n",
       "  </tbody>\n",
       "</table>\n",
       "<p>5 rows × 83 columns</p>\n",
       "</div>"
      ],
      "text/plain": [
       "   barrels08  barrelsA08  charge120  charge240  city08  city08U  cityA08  \\\n",
       "0  15.695714         0.0        0.0        0.0      19      0.0        0   \n",
       "1  29.964545         0.0        0.0        0.0       9      0.0        0   \n",
       "2  12.207778         0.0        0.0        0.0      23      0.0        0   \n",
       "3  29.964545         0.0        0.0        0.0      10      0.0        0   \n",
       "4  17.347895         0.0        0.0        0.0      17      0.0        0   \n",
       "\n",
       "   cityA08U  cityCD  cityE  ...  mfrCode  c240Dscr  charge240b  c240bDscr  \\\n",
       "0       0.0     0.0    0.0  ...      NaN       NaN         0.0        NaN   \n",
       "1       0.0     0.0    0.0  ...      NaN       NaN         0.0        NaN   \n",
       "2       0.0     0.0    0.0  ...      NaN       NaN         0.0        NaN   \n",
       "3       0.0     0.0    0.0  ...      NaN       NaN         0.0        NaN   \n",
       "4       0.0     0.0    0.0  ...      NaN       NaN         0.0        NaN   \n",
       "\n",
       "                      createdOn                    modifiedOn  startStop  \\\n",
       "0  Tue Jan 01 00:00:00 EST 2013  Tue Jan 01 00:00:00 EST 2013        NaN   \n",
       "1  Tue Jan 01 00:00:00 EST 2013  Tue Jan 01 00:00:00 EST 2013        NaN   \n",
       "2  Tue Jan 01 00:00:00 EST 2013  Tue Jan 01 00:00:00 EST 2013        NaN   \n",
       "3  Tue Jan 01 00:00:00 EST 2013  Tue Jan 01 00:00:00 EST 2013        NaN   \n",
       "4  Tue Jan 01 00:00:00 EST 2013  Tue Jan 01 00:00:00 EST 2013        NaN   \n",
       "\n",
       "   phevCity  phevHwy  phevComb  \n",
       "0         0        0         0  \n",
       "1         0        0         0  \n",
       "2         0        0         0  \n",
       "3         0        0         0  \n",
       "4         0        0         0  \n",
       "\n",
       "[5 rows x 83 columns]"
      ]
     },
     "execution_count": 2,
     "metadata": {},
     "output_type": "execute_result"
    }
   ],
   "source": [
    "import sklearn\n",
    "from sklearn.cluster import KMeans\n",
    "from sklearn.preprocessing import scale, StandardScaler\n",
    "from sklearn import metrics\n",
    "from sklearn.metrics import classification_report, confusion_matrix\n",
    "%matplotlib inline \n",
    "import seaborn as sns\n",
    "import numpy as np # need this for numpy arrays\n",
    "import pandas as pd # main focu\n",
    "import matplotlib.pyplot as plt\n",
    "cars = pd.read_csv('cars.csv')\n",
    "\n",
    "cars.head()"
   ]
  },
  {
   "cell_type": "markdown",
   "metadata": {},
   "source": [
    "Creates a copy with desired variables\n"
   ]
  },
  {
   "cell_type": "code",
   "execution_count": 3,
   "metadata": {},
   "outputs": [
    {
     "data": {
      "text/plain": [
       "sCharger            856\n",
       "tCharger           6963\n",
       "city08            41342\n",
       "highway08         41342\n",
       "make              41342\n",
       "model             41342\n",
       "VClass            41342\n",
       "fuelType1         41342\n",
       "co2TailpipeGpm    41342\n",
       "displ             41135\n",
       "barrels08         41342\n",
       "cylinders         41133\n",
       "dtype: int64"
      ]
     },
     "execution_count": 3,
     "metadata": {},
     "output_type": "execute_result"
    }
   ],
   "source": [
    "cars2 =  cars[['sCharger', 'tCharger', 'city08', 'highway08', 'make', 'model', 'VClass', 'fuelType1', 'co2TailpipeGpm', 'displ','barrels08', 'cylinders']].copy()\n",
    "cars2.head()\n",
    "\n",
    "cars2.count()\n"
   ]
  },
  {
   "cell_type": "markdown",
   "metadata": {},
   "source": [
    "Drops observations of cars with neither a turbo or supercharger"
   ]
  },
  {
   "cell_type": "code",
   "execution_count": 4,
   "metadata": {},
   "outputs": [
    {
     "data": {
      "text/html": [
       "<div>\n",
       "<style scoped>\n",
       "    .dataframe tbody tr th:only-of-type {\n",
       "        vertical-align: middle;\n",
       "    }\n",
       "\n",
       "    .dataframe tbody tr th {\n",
       "        vertical-align: top;\n",
       "    }\n",
       "\n",
       "    .dataframe thead th {\n",
       "        text-align: right;\n",
       "    }\n",
       "</style>\n",
       "<table border=\"1\" class=\"dataframe\">\n",
       "  <thead>\n",
       "    <tr style=\"text-align: right;\">\n",
       "      <th></th>\n",
       "      <th>sCharger</th>\n",
       "      <th>tCharger</th>\n",
       "      <th>city08</th>\n",
       "      <th>highway08</th>\n",
       "      <th>make</th>\n",
       "      <th>model</th>\n",
       "      <th>VClass</th>\n",
       "      <th>fuelType1</th>\n",
       "      <th>co2TailpipeGpm</th>\n",
       "      <th>displ</th>\n",
       "      <th>barrels08</th>\n",
       "      <th>cylinders</th>\n",
       "    </tr>\n",
       "  </thead>\n",
       "  <tbody>\n",
       "    <tr>\n",
       "      <th>4</th>\n",
       "      <td>NaN</td>\n",
       "      <td>T</td>\n",
       "      <td>17</td>\n",
       "      <td>23</td>\n",
       "      <td>Subaru</td>\n",
       "      <td>Legacy AWD Turbo</td>\n",
       "      <td>Compact Cars</td>\n",
       "      <td>Premium Gasoline</td>\n",
       "      <td>467.736842</td>\n",
       "      <td>2.2</td>\n",
       "      <td>17.347895</td>\n",
       "      <td>4.0</td>\n",
       "    </tr>\n",
       "    <tr>\n",
       "      <th>61</th>\n",
       "      <td>S</td>\n",
       "      <td>NaN</td>\n",
       "      <td>15</td>\n",
       "      <td>21</td>\n",
       "      <td>Ford</td>\n",
       "      <td>Thunderbird</td>\n",
       "      <td>Midsize Cars</td>\n",
       "      <td>Premium Gasoline</td>\n",
       "      <td>522.764706</td>\n",
       "      <td>3.8</td>\n",
       "      <td>19.388824</td>\n",
       "      <td>6.0</td>\n",
       "    </tr>\n",
       "    <tr>\n",
       "      <th>62</th>\n",
       "      <td>S</td>\n",
       "      <td>NaN</td>\n",
       "      <td>15</td>\n",
       "      <td>22</td>\n",
       "      <td>Ford</td>\n",
       "      <td>Thunderbird</td>\n",
       "      <td>Midsize Cars</td>\n",
       "      <td>Premium Gasoline</td>\n",
       "      <td>493.722222</td>\n",
       "      <td>3.8</td>\n",
       "      <td>18.311667</td>\n",
       "      <td>6.0</td>\n",
       "    </tr>\n",
       "    <tr>\n",
       "      <th>100</th>\n",
       "      <td>NaN</td>\n",
       "      <td>T</td>\n",
       "      <td>10</td>\n",
       "      <td>15</td>\n",
       "      <td>Rolls-Royce</td>\n",
       "      <td>Turbo R/Turbo R(lwb)</td>\n",
       "      <td>Midsize Cars</td>\n",
       "      <td>Premium Gasoline</td>\n",
       "      <td>807.909091</td>\n",
       "      <td>6.8</td>\n",
       "      <td>29.964545</td>\n",
       "      <td>8.0</td>\n",
       "    </tr>\n",
       "    <tr>\n",
       "      <th>115</th>\n",
       "      <td>NaN</td>\n",
       "      <td>T</td>\n",
       "      <td>17</td>\n",
       "      <td>22</td>\n",
       "      <td>Volvo</td>\n",
       "      <td>940</td>\n",
       "      <td>Midsize Cars</td>\n",
       "      <td>Regular Gasoline</td>\n",
       "      <td>467.736842</td>\n",
       "      <td>2.3</td>\n",
       "      <td>17.347895</td>\n",
       "      <td>4.0</td>\n",
       "    </tr>\n",
       "  </tbody>\n",
       "</table>\n",
       "</div>"
      ],
      "text/plain": [
       "    sCharger tCharger  city08  highway08         make                 model  \\\n",
       "4        NaN        T      17         23       Subaru      Legacy AWD Turbo   \n",
       "61         S      NaN      15         21         Ford           Thunderbird   \n",
       "62         S      NaN      15         22         Ford           Thunderbird   \n",
       "100      NaN        T      10         15  Rolls-Royce  Turbo R/Turbo R(lwb)   \n",
       "115      NaN        T      17         22        Volvo                   940   \n",
       "\n",
       "           VClass         fuelType1  co2TailpipeGpm  displ  barrels08  \\\n",
       "4    Compact Cars  Premium Gasoline      467.736842    2.2  17.347895   \n",
       "61   Midsize Cars  Premium Gasoline      522.764706    3.8  19.388824   \n",
       "62   Midsize Cars  Premium Gasoline      493.722222    3.8  18.311667   \n",
       "100  Midsize Cars  Premium Gasoline      807.909091    6.8  29.964545   \n",
       "115  Midsize Cars  Regular Gasoline      467.736842    2.3  17.347895   \n",
       "\n",
       "     cylinders  \n",
       "4          4.0  \n",
       "61         6.0  \n",
       "62         6.0  \n",
       "100        8.0  \n",
       "115        4.0  "
      ]
     },
     "execution_count": 4,
     "metadata": {},
     "output_type": "execute_result"
    }
   ],
   "source": [
    "cars2 = cars2.drop(cars2[(cars2.sCharger != 'S') & (cars2.tCharger != 'T')].index)\n",
    "\n",
    "cars2.head()\n"
   ]
  },
  {
   "cell_type": "markdown",
   "metadata": {},
   "source": [
    "Replaces NaN values with 0\n",
    "<br>\n",
    "Replaces observations marked \"S\" or \"T\"  a boolean. 1=True\n"
   ]
  },
  {
   "cell_type": "code",
   "execution_count": 5,
   "metadata": {},
   "outputs": [
    {
     "name": "stderr",
     "output_type": "stream",
     "text": [
      "/Users/KyleMontera/anaconda3/lib/python3.7/site-packages/ipykernel_launcher.py:4: SettingWithCopyWarning: \n",
      "A value is trying to be set on a copy of a slice from a DataFrame\n",
      "\n",
      "See the caveats in the documentation: http://pandas.pydata.org/pandas-docs/stable/indexing.html#indexing-view-versus-copy\n",
      "  after removing the cwd from sys.path.\n",
      "/Users/KyleMontera/anaconda3/lib/python3.7/site-packages/ipykernel_launcher.py:5: SettingWithCopyWarning: \n",
      "A value is trying to be set on a copy of a slice from a DataFrame\n",
      "\n",
      "See the caveats in the documentation: http://pandas.pydata.org/pandas-docs/stable/indexing.html#indexing-view-versus-copy\n",
      "  \"\"\"\n"
     ]
    },
    {
     "data": {
      "text/html": [
       "<div>\n",
       "<style scoped>\n",
       "    .dataframe tbody tr th:only-of-type {\n",
       "        vertical-align: middle;\n",
       "    }\n",
       "\n",
       "    .dataframe tbody tr th {\n",
       "        vertical-align: top;\n",
       "    }\n",
       "\n",
       "    .dataframe thead th {\n",
       "        text-align: right;\n",
       "    }\n",
       "</style>\n",
       "<table border=\"1\" class=\"dataframe\">\n",
       "  <thead>\n",
       "    <tr style=\"text-align: right;\">\n",
       "      <th></th>\n",
       "      <th>sCharger</th>\n",
       "      <th>tCharger</th>\n",
       "      <th>city08</th>\n",
       "      <th>highway08</th>\n",
       "      <th>make</th>\n",
       "      <th>model</th>\n",
       "      <th>VClass</th>\n",
       "      <th>fuelType1</th>\n",
       "      <th>co2TailpipeGpm</th>\n",
       "      <th>displ</th>\n",
       "      <th>barrels08</th>\n",
       "      <th>cylinders</th>\n",
       "    </tr>\n",
       "  </thead>\n",
       "  <tbody>\n",
       "    <tr>\n",
       "      <th>4</th>\n",
       "      <td>0</td>\n",
       "      <td>1</td>\n",
       "      <td>17</td>\n",
       "      <td>23</td>\n",
       "      <td>Subaru</td>\n",
       "      <td>Legacy AWD Turbo</td>\n",
       "      <td>Compact Cars</td>\n",
       "      <td>Premium Gasoline</td>\n",
       "      <td>467.736842</td>\n",
       "      <td>2.2</td>\n",
       "      <td>17.347895</td>\n",
       "      <td>4.0</td>\n",
       "    </tr>\n",
       "    <tr>\n",
       "      <th>61</th>\n",
       "      <td>1</td>\n",
       "      <td>0</td>\n",
       "      <td>15</td>\n",
       "      <td>21</td>\n",
       "      <td>Ford</td>\n",
       "      <td>Thunderbird</td>\n",
       "      <td>Midsize Cars</td>\n",
       "      <td>Premium Gasoline</td>\n",
       "      <td>522.764706</td>\n",
       "      <td>3.8</td>\n",
       "      <td>19.388824</td>\n",
       "      <td>6.0</td>\n",
       "    </tr>\n",
       "    <tr>\n",
       "      <th>62</th>\n",
       "      <td>1</td>\n",
       "      <td>0</td>\n",
       "      <td>15</td>\n",
       "      <td>22</td>\n",
       "      <td>Ford</td>\n",
       "      <td>Thunderbird</td>\n",
       "      <td>Midsize Cars</td>\n",
       "      <td>Premium Gasoline</td>\n",
       "      <td>493.722222</td>\n",
       "      <td>3.8</td>\n",
       "      <td>18.311667</td>\n",
       "      <td>6.0</td>\n",
       "    </tr>\n",
       "    <tr>\n",
       "      <th>100</th>\n",
       "      <td>0</td>\n",
       "      <td>1</td>\n",
       "      <td>10</td>\n",
       "      <td>15</td>\n",
       "      <td>Rolls-Royce</td>\n",
       "      <td>Turbo R/Turbo R(lwb)</td>\n",
       "      <td>Midsize Cars</td>\n",
       "      <td>Premium Gasoline</td>\n",
       "      <td>807.909091</td>\n",
       "      <td>6.8</td>\n",
       "      <td>29.964545</td>\n",
       "      <td>8.0</td>\n",
       "    </tr>\n",
       "    <tr>\n",
       "      <th>115</th>\n",
       "      <td>0</td>\n",
       "      <td>1</td>\n",
       "      <td>17</td>\n",
       "      <td>22</td>\n",
       "      <td>Volvo</td>\n",
       "      <td>940</td>\n",
       "      <td>Midsize Cars</td>\n",
       "      <td>Regular Gasoline</td>\n",
       "      <td>467.736842</td>\n",
       "      <td>2.3</td>\n",
       "      <td>17.347895</td>\n",
       "      <td>4.0</td>\n",
       "    </tr>\n",
       "  </tbody>\n",
       "</table>\n",
       "</div>"
      ],
      "text/plain": [
       "    sCharger tCharger  city08  highway08         make                 model  \\\n",
       "4          0        1      17         23       Subaru      Legacy AWD Turbo   \n",
       "61         1        0      15         21         Ford           Thunderbird   \n",
       "62         1        0      15         22         Ford           Thunderbird   \n",
       "100        0        1      10         15  Rolls-Royce  Turbo R/Turbo R(lwb)   \n",
       "115        0        1      17         22        Volvo                   940   \n",
       "\n",
       "           VClass         fuelType1  co2TailpipeGpm  displ  barrels08  \\\n",
       "4    Compact Cars  Premium Gasoline      467.736842    2.2  17.347895   \n",
       "61   Midsize Cars  Premium Gasoline      522.764706    3.8  19.388824   \n",
       "62   Midsize Cars  Premium Gasoline      493.722222    3.8  18.311667   \n",
       "100  Midsize Cars  Premium Gasoline      807.909091    6.8  29.964545   \n",
       "115  Midsize Cars  Regular Gasoline      467.736842    2.3  17.347895   \n",
       "\n",
       "     cylinders  \n",
       "4          4.0  \n",
       "61         6.0  \n",
       "62         6.0  \n",
       "100        8.0  \n",
       "115        4.0  "
      ]
     },
     "execution_count": 5,
     "metadata": {},
     "output_type": "execute_result"
    }
   ],
   "source": [
    "cars2['sCharger'].fillna(0, inplace=True)\n",
    "cars2['tCharger'].fillna(0, inplace=True)\n",
    "\n",
    "cars2.sCharger[cars2.sCharger == 'S'] = 1\n",
    "cars2.tCharger[cars2.tCharger == 'T'] = 1\n",
    "cars2.head()"
   ]
  },
  {
   "cell_type": "markdown",
   "metadata": {},
   "source": [
    "Creates a new column, \"engine type\""
   ]
  },
  {
   "cell_type": "code",
   "execution_count": 6,
   "metadata": {},
   "outputs": [
    {
     "data": {
      "text/html": [
       "<div>\n",
       "<style scoped>\n",
       "    .dataframe tbody tr th:only-of-type {\n",
       "        vertical-align: middle;\n",
       "    }\n",
       "\n",
       "    .dataframe tbody tr th {\n",
       "        vertical-align: top;\n",
       "    }\n",
       "\n",
       "    .dataframe thead th {\n",
       "        text-align: right;\n",
       "    }\n",
       "</style>\n",
       "<table border=\"1\" class=\"dataframe\">\n",
       "  <thead>\n",
       "    <tr style=\"text-align: right;\">\n",
       "      <th></th>\n",
       "      <th>sCharger</th>\n",
       "      <th>tCharger</th>\n",
       "      <th>city08</th>\n",
       "      <th>highway08</th>\n",
       "      <th>make</th>\n",
       "      <th>model</th>\n",
       "      <th>VClass</th>\n",
       "      <th>fuelType1</th>\n",
       "      <th>co2TailpipeGpm</th>\n",
       "      <th>displ</th>\n",
       "      <th>barrels08</th>\n",
       "      <th>cylinders</th>\n",
       "      <th>enginetype</th>\n",
       "    </tr>\n",
       "  </thead>\n",
       "  <tbody>\n",
       "    <tr>\n",
       "      <th>4</th>\n",
       "      <td>0</td>\n",
       "      <td>1</td>\n",
       "      <td>17</td>\n",
       "      <td>23</td>\n",
       "      <td>Subaru</td>\n",
       "      <td>Legacy AWD Turbo</td>\n",
       "      <td>Compact Cars</td>\n",
       "      <td>Premium Gasoline</td>\n",
       "      <td>467.736842</td>\n",
       "      <td>2.2</td>\n",
       "      <td>17.347895</td>\n",
       "      <td>4.0</td>\n",
       "      <td>Turbo</td>\n",
       "    </tr>\n",
       "    <tr>\n",
       "      <th>61</th>\n",
       "      <td>1</td>\n",
       "      <td>0</td>\n",
       "      <td>15</td>\n",
       "      <td>21</td>\n",
       "      <td>Ford</td>\n",
       "      <td>Thunderbird</td>\n",
       "      <td>Midsize Cars</td>\n",
       "      <td>Premium Gasoline</td>\n",
       "      <td>522.764706</td>\n",
       "      <td>3.8</td>\n",
       "      <td>19.388824</td>\n",
       "      <td>6.0</td>\n",
       "      <td>Super</td>\n",
       "    </tr>\n",
       "    <tr>\n",
       "      <th>62</th>\n",
       "      <td>1</td>\n",
       "      <td>0</td>\n",
       "      <td>15</td>\n",
       "      <td>22</td>\n",
       "      <td>Ford</td>\n",
       "      <td>Thunderbird</td>\n",
       "      <td>Midsize Cars</td>\n",
       "      <td>Premium Gasoline</td>\n",
       "      <td>493.722222</td>\n",
       "      <td>3.8</td>\n",
       "      <td>18.311667</td>\n",
       "      <td>6.0</td>\n",
       "      <td>Super</td>\n",
       "    </tr>\n",
       "    <tr>\n",
       "      <th>100</th>\n",
       "      <td>0</td>\n",
       "      <td>1</td>\n",
       "      <td>10</td>\n",
       "      <td>15</td>\n",
       "      <td>Rolls-Royce</td>\n",
       "      <td>Turbo R/Turbo R(lwb)</td>\n",
       "      <td>Midsize Cars</td>\n",
       "      <td>Premium Gasoline</td>\n",
       "      <td>807.909091</td>\n",
       "      <td>6.8</td>\n",
       "      <td>29.964545</td>\n",
       "      <td>8.0</td>\n",
       "      <td>Turbo</td>\n",
       "    </tr>\n",
       "    <tr>\n",
       "      <th>115</th>\n",
       "      <td>0</td>\n",
       "      <td>1</td>\n",
       "      <td>17</td>\n",
       "      <td>22</td>\n",
       "      <td>Volvo</td>\n",
       "      <td>940</td>\n",
       "      <td>Midsize Cars</td>\n",
       "      <td>Regular Gasoline</td>\n",
       "      <td>467.736842</td>\n",
       "      <td>2.3</td>\n",
       "      <td>17.347895</td>\n",
       "      <td>4.0</td>\n",
       "      <td>Turbo</td>\n",
       "    </tr>\n",
       "  </tbody>\n",
       "</table>\n",
       "</div>"
      ],
      "text/plain": [
       "    sCharger tCharger  city08  highway08         make                 model  \\\n",
       "4          0        1      17         23       Subaru      Legacy AWD Turbo   \n",
       "61         1        0      15         21         Ford           Thunderbird   \n",
       "62         1        0      15         22         Ford           Thunderbird   \n",
       "100        0        1      10         15  Rolls-Royce  Turbo R/Turbo R(lwb)   \n",
       "115        0        1      17         22        Volvo                   940   \n",
       "\n",
       "           VClass         fuelType1  co2TailpipeGpm  displ  barrels08  \\\n",
       "4    Compact Cars  Premium Gasoline      467.736842    2.2  17.347895   \n",
       "61   Midsize Cars  Premium Gasoline      522.764706    3.8  19.388824   \n",
       "62   Midsize Cars  Premium Gasoline      493.722222    3.8  18.311667   \n",
       "100  Midsize Cars  Premium Gasoline      807.909091    6.8  29.964545   \n",
       "115  Midsize Cars  Regular Gasoline      467.736842    2.3  17.347895   \n",
       "\n",
       "     cylinders enginetype  \n",
       "4          4.0      Turbo  \n",
       "61         6.0      Super  \n",
       "62         6.0      Super  \n",
       "100        8.0      Turbo  \n",
       "115        4.0      Turbo  "
      ]
     },
     "execution_count": 6,
     "metadata": {},
     "output_type": "execute_result"
    }
   ],
   "source": [
    "\n",
    "cars2.loc[cars2.sCharger == 1, 'enginetype'] = 'Super' \n",
    "cars2.loc[cars2.tCharger == 1, 'enginetype'] = 'Turbo'\n",
    "cars2.loc[(cars2.tCharger == 1) & (cars2.sCharger == 1), 'enginetype'] = 'Twin'\n",
    "cars2.head()\n"
   ]
  },
  {
   "cell_type": "markdown",
   "metadata": {},
   "source": [
    "Creates a data frame without the sCharger and tCharger columns, replaced by \"enginetype\""
   ]
  },
  {
   "cell_type": "code",
   "execution_count": 7,
   "metadata": {},
   "outputs": [
    {
     "data": {
      "text/html": [
       "<div>\n",
       "<style scoped>\n",
       "    .dataframe tbody tr th:only-of-type {\n",
       "        vertical-align: middle;\n",
       "    }\n",
       "\n",
       "    .dataframe tbody tr th {\n",
       "        vertical-align: top;\n",
       "    }\n",
       "\n",
       "    .dataframe thead th {\n",
       "        text-align: right;\n",
       "    }\n",
       "</style>\n",
       "<table border=\"1\" class=\"dataframe\">\n",
       "  <thead>\n",
       "    <tr style=\"text-align: right;\">\n",
       "      <th></th>\n",
       "      <th>enginetype</th>\n",
       "      <th>city08</th>\n",
       "      <th>highway08</th>\n",
       "      <th>make</th>\n",
       "      <th>model</th>\n",
       "      <th>VClass</th>\n",
       "      <th>fuelType1</th>\n",
       "      <th>co2TailpipeGpm</th>\n",
       "      <th>displ</th>\n",
       "      <th>barrels08</th>\n",
       "      <th>cylinders</th>\n",
       "    </tr>\n",
       "  </thead>\n",
       "  <tbody>\n",
       "    <tr>\n",
       "      <th>4</th>\n",
       "      <td>Turbo</td>\n",
       "      <td>17</td>\n",
       "      <td>23</td>\n",
       "      <td>Subaru</td>\n",
       "      <td>Legacy AWD Turbo</td>\n",
       "      <td>Compact Cars</td>\n",
       "      <td>Premium Gasoline</td>\n",
       "      <td>467.736842</td>\n",
       "      <td>2.2</td>\n",
       "      <td>17.347895</td>\n",
       "      <td>4.0</td>\n",
       "    </tr>\n",
       "    <tr>\n",
       "      <th>61</th>\n",
       "      <td>Super</td>\n",
       "      <td>15</td>\n",
       "      <td>21</td>\n",
       "      <td>Ford</td>\n",
       "      <td>Thunderbird</td>\n",
       "      <td>Midsize Cars</td>\n",
       "      <td>Premium Gasoline</td>\n",
       "      <td>522.764706</td>\n",
       "      <td>3.8</td>\n",
       "      <td>19.388824</td>\n",
       "      <td>6.0</td>\n",
       "    </tr>\n",
       "    <tr>\n",
       "      <th>62</th>\n",
       "      <td>Super</td>\n",
       "      <td>15</td>\n",
       "      <td>22</td>\n",
       "      <td>Ford</td>\n",
       "      <td>Thunderbird</td>\n",
       "      <td>Midsize Cars</td>\n",
       "      <td>Premium Gasoline</td>\n",
       "      <td>493.722222</td>\n",
       "      <td>3.8</td>\n",
       "      <td>18.311667</td>\n",
       "      <td>6.0</td>\n",
       "    </tr>\n",
       "    <tr>\n",
       "      <th>100</th>\n",
       "      <td>Turbo</td>\n",
       "      <td>10</td>\n",
       "      <td>15</td>\n",
       "      <td>Rolls-Royce</td>\n",
       "      <td>Turbo R/Turbo R(lwb)</td>\n",
       "      <td>Midsize Cars</td>\n",
       "      <td>Premium Gasoline</td>\n",
       "      <td>807.909091</td>\n",
       "      <td>6.8</td>\n",
       "      <td>29.964545</td>\n",
       "      <td>8.0</td>\n",
       "    </tr>\n",
       "    <tr>\n",
       "      <th>115</th>\n",
       "      <td>Turbo</td>\n",
       "      <td>17</td>\n",
       "      <td>22</td>\n",
       "      <td>Volvo</td>\n",
       "      <td>940</td>\n",
       "      <td>Midsize Cars</td>\n",
       "      <td>Regular Gasoline</td>\n",
       "      <td>467.736842</td>\n",
       "      <td>2.3</td>\n",
       "      <td>17.347895</td>\n",
       "      <td>4.0</td>\n",
       "    </tr>\n",
       "  </tbody>\n",
       "</table>\n",
       "</div>"
      ],
      "text/plain": [
       "    enginetype  city08  highway08         make                 model  \\\n",
       "4        Turbo      17         23       Subaru      Legacy AWD Turbo   \n",
       "61       Super      15         21         Ford           Thunderbird   \n",
       "62       Super      15         22         Ford           Thunderbird   \n",
       "100      Turbo      10         15  Rolls-Royce  Turbo R/Turbo R(lwb)   \n",
       "115      Turbo      17         22        Volvo                   940   \n",
       "\n",
       "           VClass         fuelType1  co2TailpipeGpm  displ  barrels08  \\\n",
       "4    Compact Cars  Premium Gasoline      467.736842    2.2  17.347895   \n",
       "61   Midsize Cars  Premium Gasoline      522.764706    3.8  19.388824   \n",
       "62   Midsize Cars  Premium Gasoline      493.722222    3.8  18.311667   \n",
       "100  Midsize Cars  Premium Gasoline      807.909091    6.8  29.964545   \n",
       "115  Midsize Cars  Regular Gasoline      467.736842    2.3  17.347895   \n",
       "\n",
       "     cylinders  \n",
       "4          4.0  \n",
       "61         6.0  \n",
       "62         6.0  \n",
       "100        8.0  \n",
       "115        4.0  "
      ]
     },
     "execution_count": 7,
     "metadata": {},
     "output_type": "execute_result"
    }
   ],
   "source": [
    "engtype = cars2[['enginetype', 'city08', 'highway08', 'make', 'model', 'VClass', 'fuelType1', 'co2TailpipeGpm', 'displ','barrels08', 'cylinders']].copy()\n",
    "\n",
    "engtype.head()"
   ]
  },
  {
   "cell_type": "markdown",
   "metadata": {},
   "source": [
    "# Charged Car analysis\n",
    "\n"
   ]
  },
  {
   "cell_type": "markdown",
   "metadata": {},
   "source": [
    "# Features"
   ]
  },
  {
   "cell_type": "code",
   "execution_count": 8,
   "metadata": {},
   "outputs": [],
   "source": [
    "#CityEmission_ratio - City C02 Tailpipe emissions per mile (Grams Per gallon)\n",
    "#Tailpipe emissions divided by city MPG\n",
    "engtype['CityEmission_ratio'] = engtype['co2TailpipeGpm'] / engtype['city08']"
   ]
  },
  {
   "cell_type": "code",
   "execution_count": 9,
   "metadata": {},
   "outputs": [],
   "source": [
    "#HighwayEmission_ratio - Highway C02 Tailpipe emissions per mile (Grams Per gallon)\n",
    "#Tailpipe emissions divided by Highway MPG\n",
    "engtype['HighwayEmission_ratio'] = engtype['co2TailpipeGpm'] / engtype['highway08']\n",
    "\n"
   ]
  },
  {
   "cell_type": "code",
   "execution_count": 10,
   "metadata": {},
   "outputs": [],
   "source": [
    "#GallonsPerYear - Gallons of fuel consumed a year\n",
    "#Barrels of Petroleum consumptumption pery year multiplied by 42\n",
    "engtype['GallonsPerYear'] = engtype['barrels08'] * 42"
   ]
  },
  {
   "cell_type": "code",
   "execution_count": 11,
   "metadata": {},
   "outputs": [],
   "source": [
    "#Avgmpg\n",
    "#Average of City and Highway MPG\n",
    "engtype['avgmpg'] = (engtype['city08'] + engtype['highway08']) / 2"
   ]
  },
  {
   "cell_type": "code",
   "execution_count": 12,
   "metadata": {},
   "outputs": [],
   "source": [
    "#Avg_emissionratio\n",
    "#Average of CityEmission_ratio and HighwayEmission_ratio\n",
    "\n",
    "engtype['avg_emissionratio'] = (engtype['CityEmission_ratio'] + engtype['HighwayEmission_ratio']) / 2"
   ]
  },
  {
   "cell_type": "code",
   "execution_count": 13,
   "metadata": {},
   "outputs": [
    {
     "data": {
      "text/html": [
       "<div>\n",
       "<style scoped>\n",
       "    .dataframe tbody tr th:only-of-type {\n",
       "        vertical-align: middle;\n",
       "    }\n",
       "\n",
       "    .dataframe tbody tr th {\n",
       "        vertical-align: top;\n",
       "    }\n",
       "\n",
       "    .dataframe thead th {\n",
       "        text-align: right;\n",
       "    }\n",
       "</style>\n",
       "<table border=\"1\" class=\"dataframe\">\n",
       "  <thead>\n",
       "    <tr style=\"text-align: right;\">\n",
       "      <th></th>\n",
       "      <th>enginetype</th>\n",
       "      <th>city08</th>\n",
       "      <th>highway08</th>\n",
       "      <th>make</th>\n",
       "      <th>model</th>\n",
       "      <th>VClass</th>\n",
       "      <th>fuelType1</th>\n",
       "      <th>co2TailpipeGpm</th>\n",
       "      <th>displ</th>\n",
       "      <th>barrels08</th>\n",
       "      <th>cylinders</th>\n",
       "      <th>CityEmission_ratio</th>\n",
       "      <th>HighwayEmission_ratio</th>\n",
       "      <th>GallonsPerYear</th>\n",
       "      <th>avgmpg</th>\n",
       "      <th>avg_emissionratio</th>\n",
       "    </tr>\n",
       "  </thead>\n",
       "  <tbody>\n",
       "    <tr>\n",
       "      <th>4</th>\n",
       "      <td>Turbo</td>\n",
       "      <td>17</td>\n",
       "      <td>23</td>\n",
       "      <td>Subaru</td>\n",
       "      <td>Legacy AWD Turbo</td>\n",
       "      <td>Compact Cars</td>\n",
       "      <td>Premium Gasoline</td>\n",
       "      <td>467.736842</td>\n",
       "      <td>2.2</td>\n",
       "      <td>17.347895</td>\n",
       "      <td>4.0</td>\n",
       "      <td>27.513932</td>\n",
       "      <td>20.336384</td>\n",
       "      <td>728.611579</td>\n",
       "      <td>20.0</td>\n",
       "      <td>23.925158</td>\n",
       "    </tr>\n",
       "    <tr>\n",
       "      <th>61</th>\n",
       "      <td>Super</td>\n",
       "      <td>15</td>\n",
       "      <td>21</td>\n",
       "      <td>Ford</td>\n",
       "      <td>Thunderbird</td>\n",
       "      <td>Midsize Cars</td>\n",
       "      <td>Premium Gasoline</td>\n",
       "      <td>522.764706</td>\n",
       "      <td>3.8</td>\n",
       "      <td>19.388824</td>\n",
       "      <td>6.0</td>\n",
       "      <td>34.850980</td>\n",
       "      <td>24.893557</td>\n",
       "      <td>814.330588</td>\n",
       "      <td>18.0</td>\n",
       "      <td>29.872269</td>\n",
       "    </tr>\n",
       "    <tr>\n",
       "      <th>62</th>\n",
       "      <td>Super</td>\n",
       "      <td>15</td>\n",
       "      <td>22</td>\n",
       "      <td>Ford</td>\n",
       "      <td>Thunderbird</td>\n",
       "      <td>Midsize Cars</td>\n",
       "      <td>Premium Gasoline</td>\n",
       "      <td>493.722222</td>\n",
       "      <td>3.8</td>\n",
       "      <td>18.311667</td>\n",
       "      <td>6.0</td>\n",
       "      <td>32.914815</td>\n",
       "      <td>22.441919</td>\n",
       "      <td>769.090000</td>\n",
       "      <td>18.5</td>\n",
       "      <td>27.678367</td>\n",
       "    </tr>\n",
       "    <tr>\n",
       "      <th>100</th>\n",
       "      <td>Turbo</td>\n",
       "      <td>10</td>\n",
       "      <td>15</td>\n",
       "      <td>Rolls-Royce</td>\n",
       "      <td>Turbo R/Turbo R(lwb)</td>\n",
       "      <td>Midsize Cars</td>\n",
       "      <td>Premium Gasoline</td>\n",
       "      <td>807.909091</td>\n",
       "      <td>6.8</td>\n",
       "      <td>29.964545</td>\n",
       "      <td>8.0</td>\n",
       "      <td>80.790909</td>\n",
       "      <td>53.860606</td>\n",
       "      <td>1258.510909</td>\n",
       "      <td>12.5</td>\n",
       "      <td>67.325758</td>\n",
       "    </tr>\n",
       "    <tr>\n",
       "      <th>115</th>\n",
       "      <td>Turbo</td>\n",
       "      <td>17</td>\n",
       "      <td>22</td>\n",
       "      <td>Volvo</td>\n",
       "      <td>940</td>\n",
       "      <td>Midsize Cars</td>\n",
       "      <td>Regular Gasoline</td>\n",
       "      <td>467.736842</td>\n",
       "      <td>2.3</td>\n",
       "      <td>17.347895</td>\n",
       "      <td>4.0</td>\n",
       "      <td>27.513932</td>\n",
       "      <td>21.260766</td>\n",
       "      <td>728.611579</td>\n",
       "      <td>19.5</td>\n",
       "      <td>24.387349</td>\n",
       "    </tr>\n",
       "  </tbody>\n",
       "</table>\n",
       "</div>"
      ],
      "text/plain": [
       "    enginetype  city08  highway08         make                 model  \\\n",
       "4        Turbo      17         23       Subaru      Legacy AWD Turbo   \n",
       "61       Super      15         21         Ford           Thunderbird   \n",
       "62       Super      15         22         Ford           Thunderbird   \n",
       "100      Turbo      10         15  Rolls-Royce  Turbo R/Turbo R(lwb)   \n",
       "115      Turbo      17         22        Volvo                   940   \n",
       "\n",
       "           VClass         fuelType1  co2TailpipeGpm  displ  barrels08  \\\n",
       "4    Compact Cars  Premium Gasoline      467.736842    2.2  17.347895   \n",
       "61   Midsize Cars  Premium Gasoline      522.764706    3.8  19.388824   \n",
       "62   Midsize Cars  Premium Gasoline      493.722222    3.8  18.311667   \n",
       "100  Midsize Cars  Premium Gasoline      807.909091    6.8  29.964545   \n",
       "115  Midsize Cars  Regular Gasoline      467.736842    2.3  17.347895   \n",
       "\n",
       "     cylinders  CityEmission_ratio  HighwayEmission_ratio  GallonsPerYear  \\\n",
       "4          4.0           27.513932              20.336384      728.611579   \n",
       "61         6.0           34.850980              24.893557      814.330588   \n",
       "62         6.0           32.914815              22.441919      769.090000   \n",
       "100        8.0           80.790909              53.860606     1258.510909   \n",
       "115        4.0           27.513932              21.260766      728.611579   \n",
       "\n",
       "     avgmpg  avg_emissionratio  \n",
       "4      20.0          23.925158  \n",
       "61     18.0          29.872269  \n",
       "62     18.5          27.678367  \n",
       "100    12.5          67.325758  \n",
       "115    19.5          24.387349  "
      ]
     },
     "execution_count": 13,
     "metadata": {},
     "output_type": "execute_result"
    }
   ],
   "source": [
    "engtype.head()"
   ]
  },
  {
   "cell_type": "code",
   "execution_count": 14,
   "metadata": {},
   "outputs": [
    {
     "data": {
      "text/html": [
       "<div>\n",
       "<style scoped>\n",
       "    .dataframe tbody tr th:only-of-type {\n",
       "        vertical-align: middle;\n",
       "    }\n",
       "\n",
       "    .dataframe tbody tr th {\n",
       "        vertical-align: top;\n",
       "    }\n",
       "\n",
       "    .dataframe thead th {\n",
       "        text-align: right;\n",
       "    }\n",
       "</style>\n",
       "<table border=\"1\" class=\"dataframe\">\n",
       "  <thead>\n",
       "    <tr style=\"text-align: right;\">\n",
       "      <th></th>\n",
       "      <th>city08</th>\n",
       "      <th>highway08</th>\n",
       "      <th>co2TailpipeGpm</th>\n",
       "      <th>displ</th>\n",
       "      <th>barrels08</th>\n",
       "      <th>cylinders</th>\n",
       "      <th>CityEmission_ratio</th>\n",
       "      <th>HighwayEmission_ratio</th>\n",
       "      <th>GallonsPerYear</th>\n",
       "      <th>avgmpg</th>\n",
       "      <th>avg_emissionratio</th>\n",
       "    </tr>\n",
       "  </thead>\n",
       "  <tbody>\n",
       "    <tr>\n",
       "      <th>city08</th>\n",
       "      <td>1.000000</td>\n",
       "      <td>0.934162</td>\n",
       "      <td>-0.907436</td>\n",
       "      <td>-0.724475</td>\n",
       "      <td>-0.903548</td>\n",
       "      <td>-0.657638</td>\n",
       "      <td>-0.857356</td>\n",
       "      <td>-0.837385</td>\n",
       "      <td>-0.903548</td>\n",
       "      <td>0.979619</td>\n",
       "      <td>-0.853883</td>\n",
       "    </tr>\n",
       "    <tr>\n",
       "      <th>highway08</th>\n",
       "      <td>0.934162</td>\n",
       "      <td>1.000000</td>\n",
       "      <td>-0.896060</td>\n",
       "      <td>-0.662589</td>\n",
       "      <td>-0.892470</td>\n",
       "      <td>-0.582912</td>\n",
       "      <td>-0.832341</td>\n",
       "      <td>-0.868943</td>\n",
       "      <td>-0.892470</td>\n",
       "      <td>0.986802</td>\n",
       "      <td>-0.851603</td>\n",
       "    </tr>\n",
       "    <tr>\n",
       "      <th>co2TailpipeGpm</th>\n",
       "      <td>-0.907436</td>\n",
       "      <td>-0.896060</td>\n",
       "      <td>1.000000</td>\n",
       "      <td>0.795559</td>\n",
       "      <td>0.998362</td>\n",
       "      <td>0.711622</td>\n",
       "      <td>0.973578</td>\n",
       "      <td>0.973201</td>\n",
       "      <td>0.998362</td>\n",
       "      <td>-0.916167</td>\n",
       "      <td>0.978649</td>\n",
       "    </tr>\n",
       "    <tr>\n",
       "      <th>displ</th>\n",
       "      <td>-0.724475</td>\n",
       "      <td>-0.662589</td>\n",
       "      <td>0.795559</td>\n",
       "      <td>1.000000</td>\n",
       "      <td>0.795581</td>\n",
       "      <td>0.919027</td>\n",
       "      <td>0.806475</td>\n",
       "      <td>0.762854</td>\n",
       "      <td>0.795581</td>\n",
       "      <td>-0.701720</td>\n",
       "      <td>0.793169</td>\n",
       "    </tr>\n",
       "    <tr>\n",
       "      <th>barrels08</th>\n",
       "      <td>-0.903548</td>\n",
       "      <td>-0.892470</td>\n",
       "      <td>0.998362</td>\n",
       "      <td>0.795581</td>\n",
       "      <td>1.000000</td>\n",
       "      <td>0.711775</td>\n",
       "      <td>0.971659</td>\n",
       "      <td>0.971250</td>\n",
       "      <td>1.000000</td>\n",
       "      <td>-0.912382</td>\n",
       "      <td>0.976707</td>\n",
       "    </tr>\n",
       "    <tr>\n",
       "      <th>cylinders</th>\n",
       "      <td>-0.657638</td>\n",
       "      <td>-0.582912</td>\n",
       "      <td>0.711622</td>\n",
       "      <td>0.919027</td>\n",
       "      <td>0.711775</td>\n",
       "      <td>1.000000</td>\n",
       "      <td>0.732581</td>\n",
       "      <td>0.671191</td>\n",
       "      <td>0.711775</td>\n",
       "      <td>-0.626541</td>\n",
       "      <td>0.711695</td>\n",
       "    </tr>\n",
       "    <tr>\n",
       "      <th>CityEmission_ratio</th>\n",
       "      <td>-0.857356</td>\n",
       "      <td>-0.832341</td>\n",
       "      <td>0.973578</td>\n",
       "      <td>0.806475</td>\n",
       "      <td>0.971659</td>\n",
       "      <td>0.732581</td>\n",
       "      <td>1.000000</td>\n",
       "      <td>0.977860</td>\n",
       "      <td>0.971659</td>\n",
       "      <td>-0.857574</td>\n",
       "      <td>0.996416</td>\n",
       "    </tr>\n",
       "    <tr>\n",
       "      <th>HighwayEmission_ratio</th>\n",
       "      <td>-0.837385</td>\n",
       "      <td>-0.868943</td>\n",
       "      <td>0.973201</td>\n",
       "      <td>0.762854</td>\n",
       "      <td>0.971250</td>\n",
       "      <td>0.671191</td>\n",
       "      <td>0.977860</td>\n",
       "      <td>1.000000</td>\n",
       "      <td>0.971250</td>\n",
       "      <td>-0.869115</td>\n",
       "      <td>0.992057</td>\n",
       "    </tr>\n",
       "    <tr>\n",
       "      <th>GallonsPerYear</th>\n",
       "      <td>-0.903548</td>\n",
       "      <td>-0.892470</td>\n",
       "      <td>0.998362</td>\n",
       "      <td>0.795581</td>\n",
       "      <td>1.000000</td>\n",
       "      <td>0.711775</td>\n",
       "      <td>0.971659</td>\n",
       "      <td>0.971250</td>\n",
       "      <td>1.000000</td>\n",
       "      <td>-0.912382</td>\n",
       "      <td>0.976707</td>\n",
       "    </tr>\n",
       "    <tr>\n",
       "      <th>avgmpg</th>\n",
       "      <td>0.979619</td>\n",
       "      <td>0.986802</td>\n",
       "      <td>-0.916167</td>\n",
       "      <td>-0.701720</td>\n",
       "      <td>-0.912382</td>\n",
       "      <td>-0.626541</td>\n",
       "      <td>-0.857574</td>\n",
       "      <td>-0.869115</td>\n",
       "      <td>-0.912382</td>\n",
       "      <td>1.000000</td>\n",
       "      <td>-0.866841</td>\n",
       "    </tr>\n",
       "    <tr>\n",
       "      <th>avg_emissionratio</th>\n",
       "      <td>-0.853883</td>\n",
       "      <td>-0.851603</td>\n",
       "      <td>0.978649</td>\n",
       "      <td>0.793169</td>\n",
       "      <td>0.976707</td>\n",
       "      <td>0.711695</td>\n",
       "      <td>0.996416</td>\n",
       "      <td>0.992057</td>\n",
       "      <td>0.976707</td>\n",
       "      <td>-0.866841</td>\n",
       "      <td>1.000000</td>\n",
       "    </tr>\n",
       "  </tbody>\n",
       "</table>\n",
       "</div>"
      ],
      "text/plain": [
       "                         city08  highway08  co2TailpipeGpm     displ  \\\n",
       "city08                 1.000000   0.934162       -0.907436 -0.724475   \n",
       "highway08              0.934162   1.000000       -0.896060 -0.662589   \n",
       "co2TailpipeGpm        -0.907436  -0.896060        1.000000  0.795559   \n",
       "displ                 -0.724475  -0.662589        0.795559  1.000000   \n",
       "barrels08             -0.903548  -0.892470        0.998362  0.795581   \n",
       "cylinders             -0.657638  -0.582912        0.711622  0.919027   \n",
       "CityEmission_ratio    -0.857356  -0.832341        0.973578  0.806475   \n",
       "HighwayEmission_ratio -0.837385  -0.868943        0.973201  0.762854   \n",
       "GallonsPerYear        -0.903548  -0.892470        0.998362  0.795581   \n",
       "avgmpg                 0.979619   0.986802       -0.916167 -0.701720   \n",
       "avg_emissionratio     -0.853883  -0.851603        0.978649  0.793169   \n",
       "\n",
       "                       barrels08  cylinders  CityEmission_ratio  \\\n",
       "city08                 -0.903548  -0.657638           -0.857356   \n",
       "highway08              -0.892470  -0.582912           -0.832341   \n",
       "co2TailpipeGpm          0.998362   0.711622            0.973578   \n",
       "displ                   0.795581   0.919027            0.806475   \n",
       "barrels08               1.000000   0.711775            0.971659   \n",
       "cylinders               0.711775   1.000000            0.732581   \n",
       "CityEmission_ratio      0.971659   0.732581            1.000000   \n",
       "HighwayEmission_ratio   0.971250   0.671191            0.977860   \n",
       "GallonsPerYear          1.000000   0.711775            0.971659   \n",
       "avgmpg                 -0.912382  -0.626541           -0.857574   \n",
       "avg_emissionratio       0.976707   0.711695            0.996416   \n",
       "\n",
       "                       HighwayEmission_ratio  GallonsPerYear    avgmpg  \\\n",
       "city08                             -0.837385       -0.903548  0.979619   \n",
       "highway08                          -0.868943       -0.892470  0.986802   \n",
       "co2TailpipeGpm                      0.973201        0.998362 -0.916167   \n",
       "displ                               0.762854        0.795581 -0.701720   \n",
       "barrels08                           0.971250        1.000000 -0.912382   \n",
       "cylinders                           0.671191        0.711775 -0.626541   \n",
       "CityEmission_ratio                  0.977860        0.971659 -0.857574   \n",
       "HighwayEmission_ratio               1.000000        0.971250 -0.869115   \n",
       "GallonsPerYear                      0.971250        1.000000 -0.912382   \n",
       "avgmpg                             -0.869115       -0.912382  1.000000   \n",
       "avg_emissionratio                   0.992057        0.976707 -0.866841   \n",
       "\n",
       "                       avg_emissionratio  \n",
       "city08                         -0.853883  \n",
       "highway08                      -0.851603  \n",
       "co2TailpipeGpm                  0.978649  \n",
       "displ                           0.793169  \n",
       "barrels08                       0.976707  \n",
       "cylinders                       0.711695  \n",
       "CityEmission_ratio              0.996416  \n",
       "HighwayEmission_ratio           0.992057  \n",
       "GallonsPerYear                  0.976707  \n",
       "avgmpg                         -0.866841  \n",
       "avg_emissionratio               1.000000  "
      ]
     },
     "execution_count": 14,
     "metadata": {},
     "output_type": "execute_result"
    }
   ],
   "source": [
    "engtype.corr()"
   ]
  },
  {
   "cell_type": "code",
   "execution_count": 15,
   "metadata": {
    "scrolled": true
   },
   "outputs": [
    {
     "name": "stdout",
     "output_type": "stream",
     "text": [
      "                  mean         std\n",
      "enginetype                        \n",
      "Super       780.444517  147.822092\n",
      "Turbo       658.630415  150.583228\n",
      "Twin        591.887396  162.413555\n"
     ]
    }
   ],
   "source": [
    "grouped = engtype.groupby('enginetype')\n",
    "print( grouped['GallonsPerYear'].agg([np.mean, np.std]))"
   ]
  },
  {
   "cell_type": "code",
   "execution_count": 16,
   "metadata": {},
   "outputs": [
    {
     "name": "stdout",
     "output_type": "stream",
     "text": [
      "                 mean       std\n",
      "enginetype                     \n",
      "Super       23.654764  9.566689\n",
      "Turbo       17.193184  8.292387\n",
      "Twin        14.813696  7.486674\n"
     ]
    }
   ],
   "source": [
    "grouped = engtype.groupby('enginetype')\n",
    "print( grouped['HighwayEmission_ratio'].agg([np.mean, np.std]))"
   ]
  },
  {
   "cell_type": "code",
   "execution_count": 17,
   "metadata": {},
   "outputs": [
    {
     "data": {
      "image/png": "[encoded data removed]",
      "text/plain": [
       "<Figure size 432x288 with 1 Axes>"
      ]
     },
     "metadata": {
      "needs_background": "light"
     },
     "output_type": "display_data"
    }
   ],
   "source": [
    "plt.scatter(engtype.displ, engtype.HighwayEmission_ratio)\n",
    "plt.show()"
   ]
  },
  {
   "cell_type": "code",
   "execution_count": 18,
   "metadata": {},
   "outputs": [
    {
     "data": {
      "image/png": "[encoded data removed]",
      "text/plain": [
       "<Figure size 432x288 with 1 Axes>"
      ]
     },
     "metadata": {
      "needs_background": "light"
     },
     "output_type": "display_data"
    }
   ],
   "source": [
    "plt.scatter(engtype.enginetype, engtype.GallonsPerYear)\n",
    "plt.show()"
   ]
  },
  {
   "cell_type": "code",
   "execution_count": 19,
   "metadata": {},
   "outputs": [
    {
     "name": "stdout",
     "output_type": "stream",
     "text": [
      "                mean       std\n",
      "enginetype                    \n",
      "Super       6.758448  1.286317\n",
      "Turbo       5.195249  1.876485\n",
      "Twin        4.421053  0.822613\n"
     ]
    }
   ],
   "source": [
    "grouped = engtype.groupby('enginetype')\n",
    "print( grouped['cylinders'].agg([np.mean, np.std]))"
   ]
  },
  {
   "cell_type": "code",
   "execution_count": 20,
   "metadata": {},
   "outputs": [
    {
     "name": "stdout",
     "output_type": "stream",
     "text": [
      "                 mean       std\n",
      "enginetype                     \n",
      "Super       19.264080  3.364878\n",
      "Turbo       23.152331  4.825856\n",
      "Twin        23.921053  3.724664\n"
     ]
    }
   ],
   "source": [
    "grouped = engtype.groupby('enginetype')\n",
    "print( grouped['avgmpg'].agg([np.mean, np.std]))\n"
   ]
  },
  {
   "cell_type": "code",
   "execution_count": 21,
   "metadata": {},
   "outputs": [
    {
     "name": "stdout",
     "output_type": "stream",
     "text": [
      "                 mean        std\n",
      "enginetype                      \n",
      "Super       28.743100  11.063656\n",
      "Turbo       20.617639  10.348685\n",
      "Twin        17.598699   8.644272\n"
     ]
    }
   ],
   "source": [
    "grouped = engtype.groupby('enginetype')\n",
    "print( grouped['avg_emissionratio'].agg([np.mean, np.std]))"
   ]
  },
  {
   "cell_type": "code",
   "execution_count": null,
   "metadata": {},
   "outputs": [],
   "source": []
  },
  {
   "cell_type": "markdown",
   "metadata": {},
   "source": [
    "# Gallons Per Year Analysis\n"
   ]
  },
  {
   "cell_type": "code",
   "execution_count": 22,
   "metadata": {},
   "outputs": [
    {
     "data": {
      "text/html": [
       "<div>\n",
       "<style scoped>\n",
       "    .dataframe tbody tr th:only-of-type {\n",
       "        vertical-align: middle;\n",
       "    }\n",
       "\n",
       "    .dataframe tbody tr th {\n",
       "        vertical-align: top;\n",
       "    }\n",
       "\n",
       "    .dataframe thead th {\n",
       "        text-align: right;\n",
       "    }\n",
       "</style>\n",
       "<table border=\"1\" class=\"dataframe\">\n",
       "  <thead>\n",
       "    <tr style=\"text-align: right;\">\n",
       "      <th></th>\n",
       "      <th>GallonsPerYear</th>\n",
       "      <th>CityEmission_ratio</th>\n",
       "    </tr>\n",
       "  </thead>\n",
       "  <tbody>\n",
       "    <tr>\n",
       "      <th>4</th>\n",
       "      <td>728.611579</td>\n",
       "      <td>27.513932</td>\n",
       "    </tr>\n",
       "    <tr>\n",
       "      <th>61</th>\n",
       "      <td>814.330588</td>\n",
       "      <td>34.850980</td>\n",
       "    </tr>\n",
       "    <tr>\n",
       "      <th>62</th>\n",
       "      <td>769.090000</td>\n",
       "      <td>32.914815</td>\n",
       "    </tr>\n",
       "    <tr>\n",
       "      <th>100</th>\n",
       "      <td>1258.510909</td>\n",
       "      <td>80.790909</td>\n",
       "    </tr>\n",
       "    <tr>\n",
       "      <th>115</th>\n",
       "      <td>728.611579</td>\n",
       "      <td>27.513932</td>\n",
       "    </tr>\n",
       "  </tbody>\n",
       "</table>\n",
       "</div>"
      ],
      "text/plain": [
       "     GallonsPerYear  CityEmission_ratio\n",
       "4        728.611579           27.513932\n",
       "61       814.330588           34.850980\n",
       "62       769.090000           32.914815\n",
       "100     1258.510909           80.790909\n",
       "115      728.611579           27.513932"
      ]
     },
     "execution_count": 22,
     "metadata": {},
     "output_type": "execute_result"
    }
   ],
   "source": [
    "df2 = engtype[['GallonsPerYear','CityEmission_ratio']].copy()\n",
    "df2.head()"
   ]
  },
  {
   "cell_type": "code",
   "execution_count": 23,
   "metadata": {},
   "outputs": [
    {
     "data": {
      "text/plain": [
       "GallonsPerYear        0\n",
       "CityEmission_ratio    0\n",
       "dtype: int64"
      ]
     },
     "execution_count": 23,
     "metadata": {},
     "output_type": "execute_result"
    }
   ],
   "source": [
    "df2.isnull().sum()"
   ]
  },
  {
   "cell_type": "markdown",
   "metadata": {},
   "source": [
    "# Feature Scaling\n"
   ]
  },
  {
   "cell_type": "code",
   "execution_count": 24,
   "metadata": {},
   "outputs": [
    {
     "name": "stdout",
     "output_type": "stream",
     "text": [
      "       GallonsPerYear  CityEmission_ratio\n",
      "count     7762.000000         7762.000000\n",
      "mean       670.679515           25.022918\n",
      "std        155.005268           12.870694\n",
      "min        214.851113            3.729730\n",
      "25%        573.277500           16.681818\n",
      "50%        659.220000           23.027778\n",
      "75%        728.611579           29.233553\n",
      "max       1730.452500          158.696429\n",
      "\n",
      "GallonsPerYear mean is -0.000000.\n",
      "GallonsPerYear std is 1.000000.\n",
      "CityEmission_ratio mean is -0.000000.\n",
      "CityEmission_ratio standard deviation is 1.000000.\n"
     ]
    }
   ],
   "source": [
    "scaler = StandardScaler()\n",
    "\n",
    "scaler.fit(df2)\n",
    "scaled_array = scaler.transform(df2)\n",
    "\n",
    "print(df2.describe())\n",
    "average = np.mean(scaled_array[:,0])\n",
    "std = np.std(scaled_array[:,0])\n",
    "print('\\nGallonsPerYear mean is {:.6f}.'.format(average))\n",
    "print('GallonsPerYear std is {:.6f}.'.format(std))\n",
    "print('CityEmission_ratio mean is {:.6f}.'.format(np.mean(scaled_array[:,1])))\n",
    "print('CityEmission_ratio standard deviation is {:.6f}.'.\\\n",
    "      format(np.std(scaled_array[:,1])))"
   ]
  },
  {
   "cell_type": "code",
   "execution_count": 25,
   "metadata": {},
   "outputs": [
    {
     "data": {
      "image/png": "[encoded data removed]",
      "text/plain": [
       "<Figure size 432x288 with 1 Axes>"
      ]
     },
     "metadata": {
      "needs_background": "light"
     },
     "output_type": "display_data"
    }
   ],
   "source": [
    "df = scaled_array\n",
    "no_clusters = 6\n",
    "\n",
    "\n",
    "noClusters = range(1,no_clusters + 1)\n",
    "kmeans = [KMeans(n_clusters = i) for i in noClusters] \n",
    "score = [kmeans[i].fit(df).score(df) for i in range(len(kmeans))]\n",
    "plt.plot(noClusters, score)\n",
    "plt.xlabel('Number of Clusters')\n",
    "plt.ylabel(\"Score\")\n",
    "plt.title('Elbow Curve')\n",
    "plt.show()"
   ]
  },
  {
   "cell_type": "code",
   "execution_count": 26,
   "metadata": {},
   "outputs": [],
   "source": [
    "kmeans = KMeans(n_clusters = 3, \\\n",
    "            random_state = 42) # <-- use this number to get my result\n",
    "kmeans = kmeans.fit(scaled_array)"
   ]
  },
  {
   "cell_type": "code",
   "execution_count": 27,
   "metadata": {},
   "outputs": [
    {
     "data": {
      "text/plain": [
       "KMeans(algorithm='auto', copy_x=True, init='k-means++', max_iter=300,\n",
       "       n_clusters=3, n_init=10, n_jobs=None, precompute_distances='auto',\n",
       "       random_state=42, tol=0.0001, verbose=0)"
      ]
     },
     "execution_count": 27,
     "metadata": {},
     "output_type": "execute_result"
    }
   ],
   "source": [
    "kmeans"
   ]
  },
  {
   "cell_type": "code",
   "execution_count": 28,
   "metadata": {},
   "outputs": [
    {
     "data": {
      "text/plain": [
       "array([[ 731.48852038,   28.51404199],\n",
       "       [ 548.17679671,   15.95879095],\n",
       "       [1039.46238774,   58.19498043]])"
      ]
     },
     "execution_count": 28,
     "metadata": {},
     "output_type": "execute_result"
    }
   ],
   "source": [
    "unscaled = scaler.inverse_transform(kmeans.cluster_centers_)\n",
    "unscaled"
   ]
  },
  {
   "cell_type": "code",
   "execution_count": 29,
   "metadata": {},
   "outputs": [],
   "source": [
    "centroids = pd.DataFrame({'centroidx':unscaled[:,0],\\\n",
    "            'centroidy':unscaled[:,1]})"
   ]
  },
  {
   "cell_type": "code",
   "execution_count": 30,
   "metadata": {},
   "outputs": [
    {
     "data": {
      "text/html": [
       "<div>\n",
       "<style scoped>\n",
       "    .dataframe tbody tr th:only-of-type {\n",
       "        vertical-align: middle;\n",
       "    }\n",
       "\n",
       "    .dataframe tbody tr th {\n",
       "        vertical-align: top;\n",
       "    }\n",
       "\n",
       "    .dataframe thead th {\n",
       "        text-align: right;\n",
       "    }\n",
       "</style>\n",
       "<table border=\"1\" class=\"dataframe\">\n",
       "  <thead>\n",
       "    <tr style=\"text-align: right;\">\n",
       "      <th></th>\n",
       "      <th>centroidx</th>\n",
       "      <th>centroidy</th>\n",
       "    </tr>\n",
       "  </thead>\n",
       "  <tbody>\n",
       "    <tr>\n",
       "      <th>0</th>\n",
       "      <td>731.488520</td>\n",
       "      <td>28.514042</td>\n",
       "    </tr>\n",
       "    <tr>\n",
       "      <th>1</th>\n",
       "      <td>548.176797</td>\n",
       "      <td>15.958791</td>\n",
       "    </tr>\n",
       "    <tr>\n",
       "      <th>2</th>\n",
       "      <td>1039.462388</td>\n",
       "      <td>58.194980</td>\n",
       "    </tr>\n",
       "  </tbody>\n",
       "</table>\n",
       "</div>"
      ],
      "text/plain": [
       "     centroidx  centroidy\n",
       "0   731.488520  28.514042\n",
       "1   548.176797  15.958791\n",
       "2  1039.462388  58.194980"
      ]
     },
     "execution_count": 30,
     "metadata": {},
     "output_type": "execute_result"
    }
   ],
   "source": [
    "centroids.head()"
   ]
  },
  {
   "cell_type": "code",
   "execution_count": 31,
   "metadata": {},
   "outputs": [
    {
     "data": {
      "text/html": [
       "<div>\n",
       "<style scoped>\n",
       "    .dataframe tbody tr th:only-of-type {\n",
       "        vertical-align: middle;\n",
       "    }\n",
       "\n",
       "    .dataframe tbody tr th {\n",
       "        vertical-align: top;\n",
       "    }\n",
       "\n",
       "    .dataframe thead th {\n",
       "        text-align: right;\n",
       "    }\n",
       "</style>\n",
       "<table border=\"1\" class=\"dataframe\">\n",
       "  <thead>\n",
       "    <tr style=\"text-align: right;\">\n",
       "      <th></th>\n",
       "      <th>GallonsPerYear</th>\n",
       "      <th>CityEmission_ratio</th>\n",
       "      <th>labels</th>\n",
       "    </tr>\n",
       "  </thead>\n",
       "  <tbody>\n",
       "    <tr>\n",
       "      <th>4</th>\n",
       "      <td>728.611579</td>\n",
       "      <td>27.513932</td>\n",
       "      <td>0</td>\n",
       "    </tr>\n",
       "    <tr>\n",
       "      <th>61</th>\n",
       "      <td>814.330588</td>\n",
       "      <td>34.850980</td>\n",
       "      <td>0</td>\n",
       "    </tr>\n",
       "    <tr>\n",
       "      <th>62</th>\n",
       "      <td>769.090000</td>\n",
       "      <td>32.914815</td>\n",
       "      <td>0</td>\n",
       "    </tr>\n",
       "    <tr>\n",
       "      <th>100</th>\n",
       "      <td>1258.510909</td>\n",
       "      <td>80.790909</td>\n",
       "      <td>2</td>\n",
       "    </tr>\n",
       "    <tr>\n",
       "      <th>115</th>\n",
       "      <td>728.611579</td>\n",
       "      <td>27.513932</td>\n",
       "      <td>0</td>\n",
       "    </tr>\n",
       "  </tbody>\n",
       "</table>\n",
       "</div>"
      ],
      "text/plain": [
       "     GallonsPerYear  CityEmission_ratio  labels\n",
       "4        728.611579           27.513932       0\n",
       "61       814.330588           34.850980       0\n",
       "62       769.090000           32.914815       0\n",
       "100     1258.510909           80.790909       2\n",
       "115      728.611579           27.513932       0"
      ]
     },
     "execution_count": 31,
     "metadata": {},
     "output_type": "execute_result"
    }
   ],
   "source": [
    "df2['labels'] = kmeans.labels_.astype(np.int) # kmeans label_ generates the cluster numbers\n",
    "df2.head() # look to see which cluster each row is assigned to"
   ]
  },
  {
   "cell_type": "code",
   "execution_count": 32,
   "metadata": {},
   "outputs": [
    {
     "data": {
      "text/html": [
       "<div>\n",
       "<style scoped>\n",
       "    .dataframe tbody tr th:only-of-type {\n",
       "        vertical-align: middle;\n",
       "    }\n",
       "\n",
       "    .dataframe tbody tr th {\n",
       "        vertical-align: top;\n",
       "    }\n",
       "\n",
       "    .dataframe thead th {\n",
       "        text-align: right;\n",
       "    }\n",
       "</style>\n",
       "<table border=\"1\" class=\"dataframe\">\n",
       "  <thead>\n",
       "    <tr style=\"text-align: right;\">\n",
       "      <th></th>\n",
       "      <th>GallonsPerYear</th>\n",
       "      <th>CityEmission_ratio</th>\n",
       "      <th>labels</th>\n",
       "      <th>enginetype</th>\n",
       "    </tr>\n",
       "  </thead>\n",
       "  <tbody>\n",
       "    <tr>\n",
       "      <th>4</th>\n",
       "      <td>728.611579</td>\n",
       "      <td>27.513932</td>\n",
       "      <td>0</td>\n",
       "      <td>Turbo</td>\n",
       "    </tr>\n",
       "    <tr>\n",
       "      <th>61</th>\n",
       "      <td>814.330588</td>\n",
       "      <td>34.850980</td>\n",
       "      <td>0</td>\n",
       "      <td>Super</td>\n",
       "    </tr>\n",
       "    <tr>\n",
       "      <th>62</th>\n",
       "      <td>769.090000</td>\n",
       "      <td>32.914815</td>\n",
       "      <td>0</td>\n",
       "      <td>Super</td>\n",
       "    </tr>\n",
       "    <tr>\n",
       "      <th>100</th>\n",
       "      <td>1258.510909</td>\n",
       "      <td>80.790909</td>\n",
       "      <td>2</td>\n",
       "      <td>Turbo</td>\n",
       "    </tr>\n",
       "    <tr>\n",
       "      <th>115</th>\n",
       "      <td>728.611579</td>\n",
       "      <td>27.513932</td>\n",
       "      <td>0</td>\n",
       "      <td>Turbo</td>\n",
       "    </tr>\n",
       "  </tbody>\n",
       "</table>\n",
       "</div>"
      ],
      "text/plain": [
       "     GallonsPerYear  CityEmission_ratio  labels enginetype\n",
       "4        728.611579           27.513932       0      Turbo\n",
       "61       814.330588           34.850980       0      Super\n",
       "62       769.090000           32.914815       0      Super\n",
       "100     1258.510909           80.790909       2      Turbo\n",
       "115      728.611579           27.513932       0      Turbo"
      ]
     },
     "execution_count": 32,
     "metadata": {},
     "output_type": "execute_result"
    }
   ],
   "source": [
    "\n",
    "df2['enginetype'] = engtype['enginetype'] # and the cereal name\n",
    "df2['enginetype'] = df2['enginetype'].astype(str).str[0:6] # cut to six chars\n",
    "\n",
    "df2.head()"
   ]
  },
  {
   "cell_type": "code",
   "execution_count": 33,
   "metadata": {},
   "outputs": [
    {
     "data": {
      "image/png": "[encoded data removed]",
      "text/plain": [
       "<Figure size 432x288 with 1 Axes>"
      ]
     },
     "metadata": {
      "needs_background": "light"
     },
     "output_type": "display_data"
    }
   ],
   "source": [
    "plt.scatter(df2['GallonsPerYear'], df2['CityEmission_ratio'], c=df2.labels) # (x,y,color)\n",
    "plt.scatter(centroids['centroidx'], \\\n",
    "            centroids['centroidy'], c='r') # (x,y,color)\n",
    "\n",
    "plt.show()"
   ]
  },
  {
   "cell_type": "code",
   "execution_count": 34,
   "metadata": {},
   "outputs": [],
   "source": [
    "ENGINETYPE_COLOR_MAP = {'Super' : 'Blue',\n",
    "                   'Turbo' : 'Green',\n",
    "                  'Twin' : 'Yellow',\n",
    "                  \n",
    "                 }\n",
    "                  \n",
    "\n",
    "ENGINETYPE_COLOR = [ENGINETYPE_COLOR_MAP[l] for l in df2.enginetype]"
   ]
  },
  {
   "cell_type": "code",
   "execution_count": 35,
   "metadata": {},
   "outputs": [
    {
     "data": {
      "image/png": "[encoded data removed]",
      "text/plain": [
       "<Figure size 720x504 with 1 Axes>"
      ]
     },
     "metadata": {
      "needs_background": "light"
     },
     "output_type": "display_data"
    }
   ],
   "source": [
    "fig_size = plt.rcParams[\"figure.figsize\"]\n",
    " \n",
    "fig_size[0] = 10\n",
    "fig_size[1] = 7\n",
    "plt.rcParams[\"figure.figsize\"] = fig_size\n",
    "fig, ax = plt.subplots()\n",
    "plt.scatter(centroids['centroidx'], centroids['centroidy'], c='red') \n",
    "plt.xlabel('GallonsPerYear')\n",
    "plt.ylabel('CityEmission_ratio')\n",
    "ax.scatter(df2['GallonsPerYear'], df2['CityEmission_ratio'], c=ENGINETYPE_COLOR)\n",
    "# 'C' OR COLOR CHANGED TO THE 'TYPE_COLOR' VARIABLE, WHICH CHANGES THE COLORS OF THE INDIVIDUAL POINTS REPRESENTING EACH BIRD TYPE TO IT'S RESPECTIVE COLOR\n",
    "\n",
    "\n",
    "plt.show()"
   ]
  },
  {
   "cell_type": "markdown",
   "metadata": {},
   "source": [
    "# Engine Displacement vs Highway emissions"
   ]
  },
  {
   "cell_type": "code",
   "execution_count": 36,
   "metadata": {},
   "outputs": [
    {
     "data": {
      "text/html": [
       "<div>\n",
       "<style scoped>\n",
       "    .dataframe tbody tr th:only-of-type {\n",
       "        vertical-align: middle;\n",
       "    }\n",
       "\n",
       "    .dataframe tbody tr th {\n",
       "        vertical-align: top;\n",
       "    }\n",
       "\n",
       "    .dataframe thead th {\n",
       "        text-align: right;\n",
       "    }\n",
       "</style>\n",
       "<table border=\"1\" class=\"dataframe\">\n",
       "  <thead>\n",
       "    <tr style=\"text-align: right;\">\n",
       "      <th></th>\n",
       "      <th>displ</th>\n",
       "      <th>CityEmission_ratio</th>\n",
       "    </tr>\n",
       "  </thead>\n",
       "  <tbody>\n",
       "    <tr>\n",
       "      <th>4</th>\n",
       "      <td>2.2</td>\n",
       "      <td>27.513932</td>\n",
       "    </tr>\n",
       "    <tr>\n",
       "      <th>61</th>\n",
       "      <td>3.8</td>\n",
       "      <td>34.850980</td>\n",
       "    </tr>\n",
       "    <tr>\n",
       "      <th>62</th>\n",
       "      <td>3.8</td>\n",
       "      <td>32.914815</td>\n",
       "    </tr>\n",
       "    <tr>\n",
       "      <th>100</th>\n",
       "      <td>6.8</td>\n",
       "      <td>80.790909</td>\n",
       "    </tr>\n",
       "    <tr>\n",
       "      <th>115</th>\n",
       "      <td>2.3</td>\n",
       "      <td>27.513932</td>\n",
       "    </tr>\n",
       "  </tbody>\n",
       "</table>\n",
       "</div>"
      ],
      "text/plain": [
       "     displ  CityEmission_ratio\n",
       "4      2.2           27.513932\n",
       "61     3.8           34.850980\n",
       "62     3.8           32.914815\n",
       "100    6.8           80.790909\n",
       "115    2.3           27.513932"
      ]
     },
     "execution_count": 36,
     "metadata": {},
     "output_type": "execute_result"
    }
   ],
   "source": [
    "df4 = engtype[['displ','CityEmission_ratio']].copy()\n",
    "df4.head()"
   ]
  },
  {
   "cell_type": "code",
   "execution_count": 37,
   "metadata": {},
   "outputs": [
    {
     "data": {
      "text/plain": [
       "displ                 2\n",
       "CityEmission_ratio    0\n",
       "dtype: int64"
      ]
     },
     "execution_count": 37,
     "metadata": {},
     "output_type": "execute_result"
    }
   ],
   "source": [
    "df4.isnull().sum()"
   ]
  },
  {
   "cell_type": "code",
   "execution_count": 38,
   "metadata": {},
   "outputs": [
    {
     "data": {
      "text/plain": [
       "displ                 0\n",
       "CityEmission_ratio    0\n",
       "dtype: int64"
      ]
     },
     "execution_count": 38,
     "metadata": {},
     "output_type": "execute_result"
    }
   ],
   "source": [
    "df4 = df4.dropna().copy()\n",
    "df4.isnull().sum()"
   ]
  },
  {
   "cell_type": "code",
   "execution_count": 39,
   "metadata": {},
   "outputs": [
    {
     "name": "stdout",
     "output_type": "stream",
     "text": [
      "       GallonsPerYear  CityEmission_ratio       labels\n",
      "count     7762.000000         7762.000000  7762.000000\n",
      "mean       670.679515           25.022918     0.620459\n",
      "std        155.005268           12.870694     0.626465\n",
      "min        214.851113            3.729730     0.000000\n",
      "25%        573.277500           16.681818     0.000000\n",
      "50%        659.220000           23.027778     1.000000\n",
      "75%        728.611579           29.233553     1.000000\n",
      "max       1730.452500          158.696429     2.000000\n",
      "\n",
      "displ mean is -0.000000.\n",
      "displ std is 1.000000.\n",
      "CityEmission_ratio mean is 0.000000.\n",
      "CityEmission_ratio standard deviation is 1.000000.\n"
     ]
    }
   ],
   "source": [
    "scaler = StandardScaler()\n",
    "\n",
    "scaler.fit(df4)\n",
    "scaled_array = scaler.transform(df4)\n",
    "\n",
    "print(df2.describe())\n",
    "average = np.mean(scaled_array[:,0])\n",
    "std = np.std(scaled_array[:,0])\n",
    "print('\\ndispl mean is {:.6f}.'.format(average))\n",
    "print('displ std is {:.6f}.'.format(std))\n",
    "print('CityEmission_ratio mean is {:.6f}.'.format(np.mean(scaled_array[:,1])))\n",
    "print('CityEmission_ratio standard deviation is {:.6f}.'.\\\n",
    "      format(np.std(scaled_array[:,1])))"
   ]
  },
  {
   "cell_type": "code",
   "execution_count": 40,
   "metadata": {},
   "outputs": [
    {
     "data": {
      "image/png": "[encoded data removed]",
      "text/plain": [
       "<Figure size 720x504 with 1 Axes>"
      ]
     },
     "metadata": {
      "needs_background": "light"
     },
     "output_type": "display_data"
    }
   ],
   "source": [
    "df3 = scaled_array\n",
    "no_clusters = 6\n",
    "\n",
    "\n",
    "noClusters = range(1,no_clusters + 1)\n",
    "kmeans = [KMeans(n_clusters = i) for i in noClusters] \n",
    "score = [kmeans[i].fit(df3).score(df3) for i in range(len(kmeans))]\n",
    "plt.plot(noClusters, score)\n",
    "plt.xlabel('Number of Clusters')\n",
    "plt.ylabel(\"Score\")\n",
    "plt.title('Elbow Curve')\n",
    "plt.show()\n"
   ]
  },
  {
   "cell_type": "code",
   "execution_count": 41,
   "metadata": {},
   "outputs": [],
   "source": [
    "kmeans = KMeans(n_clusters = 4, \\\n",
    "            random_state = 42) # <-- use this number to get my result\n",
    "kmeans = kmeans.fit(scaled_array)"
   ]
  },
  {
   "cell_type": "code",
   "execution_count": 42,
   "metadata": {},
   "outputs": [
    {
     "data": {
      "text/plain": [
       "KMeans(algorithm='auto', copy_x=True, init='k-means++', max_iter=300,\n",
       "       n_clusters=4, n_init=10, n_jobs=None, precompute_distances='auto',\n",
       "       random_state=42, tol=0.0001, verbose=0)"
      ]
     },
     "execution_count": 42,
     "metadata": {},
     "output_type": "execute_result"
    }
   ],
   "source": [
    "kmeans"
   ]
  },
  {
   "cell_type": "code",
   "execution_count": 43,
   "metadata": {},
   "outputs": [
    {
     "data": {
      "text/plain": [
       "array([[ 1.86370177, 15.55330328],\n",
       "       [ 4.19359806, 34.0409314 ],\n",
       "       [ 5.97303371, 59.14732443],\n",
       "       [ 2.65821404, 24.89416467]])"
      ]
     },
     "execution_count": 43,
     "metadata": {},
     "output_type": "execute_result"
    }
   ],
   "source": [
    "unscaled = scaler.inverse_transform(kmeans.cluster_centers_)\n",
    "unscaled"
   ]
  },
  {
   "cell_type": "code",
   "execution_count": 44,
   "metadata": {},
   "outputs": [],
   "source": [
    "centroids = pd.DataFrame({'centroidx':unscaled[:,0],\\\n",
    "            'centroidy':unscaled[:,1]})"
   ]
  },
  {
   "cell_type": "code",
   "execution_count": 45,
   "metadata": {},
   "outputs": [
    {
     "data": {
      "text/html": [
       "<div>\n",
       "<style scoped>\n",
       "    .dataframe tbody tr th:only-of-type {\n",
       "        vertical-align: middle;\n",
       "    }\n",
       "\n",
       "    .dataframe tbody tr th {\n",
       "        vertical-align: top;\n",
       "    }\n",
       "\n",
       "    .dataframe thead th {\n",
       "        text-align: right;\n",
       "    }\n",
       "</style>\n",
       "<table border=\"1\" class=\"dataframe\">\n",
       "  <thead>\n",
       "    <tr style=\"text-align: right;\">\n",
       "      <th></th>\n",
       "      <th>displ</th>\n",
       "      <th>CityEmission_ratio</th>\n",
       "      <th>labels</th>\n",
       "    </tr>\n",
       "  </thead>\n",
       "  <tbody>\n",
       "    <tr>\n",
       "      <th>4</th>\n",
       "      <td>2.2</td>\n",
       "      <td>27.513932</td>\n",
       "      <td>3</td>\n",
       "    </tr>\n",
       "    <tr>\n",
       "      <th>61</th>\n",
       "      <td>3.8</td>\n",
       "      <td>34.850980</td>\n",
       "      <td>1</td>\n",
       "    </tr>\n",
       "    <tr>\n",
       "      <th>62</th>\n",
       "      <td>3.8</td>\n",
       "      <td>32.914815</td>\n",
       "      <td>1</td>\n",
       "    </tr>\n",
       "    <tr>\n",
       "      <th>100</th>\n",
       "      <td>6.8</td>\n",
       "      <td>80.790909</td>\n",
       "      <td>2</td>\n",
       "    </tr>\n",
       "    <tr>\n",
       "      <th>115</th>\n",
       "      <td>2.3</td>\n",
       "      <td>27.513932</td>\n",
       "      <td>3</td>\n",
       "    </tr>\n",
       "  </tbody>\n",
       "</table>\n",
       "</div>"
      ],
      "text/plain": [
       "     displ  CityEmission_ratio  labels\n",
       "4      2.2           27.513932       3\n",
       "61     3.8           34.850980       1\n",
       "62     3.8           32.914815       1\n",
       "100    6.8           80.790909       2\n",
       "115    2.3           27.513932       3"
      ]
     },
     "execution_count": 45,
     "metadata": {},
     "output_type": "execute_result"
    }
   ],
   "source": [
    "df4['labels'] = kmeans.labels_.astype(np.int) # kmeans label_ generates the cluster numbers\n",
    "df4.head() # look to see which cluster each row is assigned to"
   ]
  },
  {
   "cell_type": "code",
   "execution_count": 46,
   "metadata": {},
   "outputs": [
    {
     "data": {
      "text/html": [
       "<div>\n",
       "<style scoped>\n",
       "    .dataframe tbody tr th:only-of-type {\n",
       "        vertical-align: middle;\n",
       "    }\n",
       "\n",
       "    .dataframe tbody tr th {\n",
       "        vertical-align: top;\n",
       "    }\n",
       "\n",
       "    .dataframe thead th {\n",
       "        text-align: right;\n",
       "    }\n",
       "</style>\n",
       "<table border=\"1\" class=\"dataframe\">\n",
       "  <thead>\n",
       "    <tr style=\"text-align: right;\">\n",
       "      <th></th>\n",
       "      <th>displ</th>\n",
       "      <th>CityEmission_ratio</th>\n",
       "      <th>labels</th>\n",
       "      <th>enginetype</th>\n",
       "    </tr>\n",
       "  </thead>\n",
       "  <tbody>\n",
       "    <tr>\n",
       "      <th>4</th>\n",
       "      <td>2.2</td>\n",
       "      <td>27.513932</td>\n",
       "      <td>3</td>\n",
       "      <td>Turbo</td>\n",
       "    </tr>\n",
       "    <tr>\n",
       "      <th>61</th>\n",
       "      <td>3.8</td>\n",
       "      <td>34.850980</td>\n",
       "      <td>1</td>\n",
       "      <td>Super</td>\n",
       "    </tr>\n",
       "    <tr>\n",
       "      <th>62</th>\n",
       "      <td>3.8</td>\n",
       "      <td>32.914815</td>\n",
       "      <td>1</td>\n",
       "      <td>Super</td>\n",
       "    </tr>\n",
       "    <tr>\n",
       "      <th>100</th>\n",
       "      <td>6.8</td>\n",
       "      <td>80.790909</td>\n",
       "      <td>2</td>\n",
       "      <td>Turbo</td>\n",
       "    </tr>\n",
       "    <tr>\n",
       "      <th>115</th>\n",
       "      <td>2.3</td>\n",
       "      <td>27.513932</td>\n",
       "      <td>3</td>\n",
       "      <td>Turbo</td>\n",
       "    </tr>\n",
       "  </tbody>\n",
       "</table>\n",
       "</div>"
      ],
      "text/plain": [
       "     displ  CityEmission_ratio  labels enginetype\n",
       "4      2.2           27.513932       3      Turbo\n",
       "61     3.8           34.850980       1      Super\n",
       "62     3.8           32.914815       1      Super\n",
       "100    6.8           80.790909       2      Turbo\n",
       "115    2.3           27.513932       3      Turbo"
      ]
     },
     "execution_count": 46,
     "metadata": {},
     "output_type": "execute_result"
    }
   ],
   "source": [
    "df4['enginetype'] = engtype['enginetype'] # and the cereal name\n",
    "df4['enginetype'] = df4['enginetype'].astype(str).str[0:6] # cut to six chars\n",
    "\n",
    "df4.head()"
   ]
  },
  {
   "cell_type": "code",
   "execution_count": 47,
   "metadata": {},
   "outputs": [
    {
     "data": {
      "image/png": "[encoded data removed]",
      "text/plain": [
       "<Figure size 720x504 with 1 Axes>"
      ]
     },
     "metadata": {
      "needs_background": "light"
     },
     "output_type": "display_data"
    }
   ],
   "source": [
    "plt.scatter(df4['displ'], df4['CityEmission_ratio'], c=df4.labels) # (x,y,color)\n",
    "plt.scatter(centroids['centroidx'], \\\n",
    "            centroids['centroidy'], c='r') # (x,y,color)\n",
    "\n",
    "plt.show()"
   ]
  },
  {
   "cell_type": "code",
   "execution_count": 48,
   "metadata": {},
   "outputs": [],
   "source": [
    "ENGINETYPE_COLOR_MAP = {'Super' : 'Blue',\n",
    "                   'Turbo' : 'Green',\n",
    "                  'Twin' : 'Yellow',\n",
    "                  \n",
    "                 }\n",
    "                  \n",
    "\n",
    "ENGINETYPE_COLOR = [ENGINETYPE_COLOR_MAP[l] for l in df4.enginetype]"
   ]
  },
  {
   "cell_type": "code",
   "execution_count": 49,
   "metadata": {},
   "outputs": [
    {
     "data": {
      "image/png": "[encoded data removed]",
      "text/plain": [
       "<Figure size 720x504 with 1 Axes>"
      ]
     },
     "metadata": {
      "needs_background": "light"
     },
     "output_type": "display_data"
    }
   ],
   "source": [
    "fig_size = plt.rcParams[\"figure.figsize\"]\n",
    " \n",
    "fig_size[0] = 10\n",
    "fig_size[1] = 7\n",
    "plt.rcParams[\"figure.figsize\"] = fig_size\n",
    "fig, ax = plt.subplots()\n",
    "plt.scatter(centroids['centroidx'], centroids['centroidy'], c='red') \n",
    "plt.xlabel('displ')\n",
    "plt.ylabel('CityEmission_ratio')\n",
    "ax.scatter(df4['displ'], df4['CityEmission_ratio'], c=ENGINETYPE_COLOR)\n",
    "# 'C' OR COLOR CHANGED TO THE 'TYPE_COLOR' VARIABLE, WHICH CHANGES THE COLORS OF THE INDIVIDUAL POINTS REPRESENTING EACH BIRD TYPE TO IT'S RESPECTIVE COLOR\n",
    "\n",
    "\n",
    "plt.show()"
   ]
  },
  {
   "cell_type": "markdown",
   "metadata": {},
   "source": [
    "# Number of Cylinders vs Gallons per Year"
   ]
  },
  {
   "cell_type": "code",
   "execution_count": 50,
   "metadata": {},
   "outputs": [
    {
     "data": {
      "text/html": [
       "<div>\n",
       "<style scoped>\n",
       "    .dataframe tbody tr th:only-of-type {\n",
       "        vertical-align: middle;\n",
       "    }\n",
       "\n",
       "    .dataframe tbody tr th {\n",
       "        vertical-align: top;\n",
       "    }\n",
       "\n",
       "    .dataframe thead th {\n",
       "        text-align: right;\n",
       "    }\n",
       "</style>\n",
       "<table border=\"1\" class=\"dataframe\">\n",
       "  <thead>\n",
       "    <tr style=\"text-align: right;\">\n",
       "      <th></th>\n",
       "      <th>displ</th>\n",
       "      <th>GallonsPerYear</th>\n",
       "    </tr>\n",
       "  </thead>\n",
       "  <tbody>\n",
       "    <tr>\n",
       "      <th>4</th>\n",
       "      <td>2.2</td>\n",
       "      <td>728.611579</td>\n",
       "    </tr>\n",
       "    <tr>\n",
       "      <th>61</th>\n",
       "      <td>3.8</td>\n",
       "      <td>814.330588</td>\n",
       "    </tr>\n",
       "    <tr>\n",
       "      <th>62</th>\n",
       "      <td>3.8</td>\n",
       "      <td>769.090000</td>\n",
       "    </tr>\n",
       "    <tr>\n",
       "      <th>100</th>\n",
       "      <td>6.8</td>\n",
       "      <td>1258.510909</td>\n",
       "    </tr>\n",
       "    <tr>\n",
       "      <th>115</th>\n",
       "      <td>2.3</td>\n",
       "      <td>728.611579</td>\n",
       "    </tr>\n",
       "  </tbody>\n",
       "</table>\n",
       "</div>"
      ],
      "text/plain": [
       "     displ  GallonsPerYear\n",
       "4      2.2      728.611579\n",
       "61     3.8      814.330588\n",
       "62     3.8      769.090000\n",
       "100    6.8     1258.510909\n",
       "115    2.3      728.611579"
      ]
     },
     "execution_count": 50,
     "metadata": {},
     "output_type": "execute_result"
    }
   ],
   "source": [
    "df6 = engtype[['displ','GallonsPerYear']].copy()\n",
    "df6.head()"
   ]
  },
  {
   "cell_type": "code",
   "execution_count": 51,
   "metadata": {},
   "outputs": [
    {
     "data": {
      "text/plain": [
       "displ             2\n",
       "GallonsPerYear    0\n",
       "dtype: int64"
      ]
     },
     "execution_count": 51,
     "metadata": {},
     "output_type": "execute_result"
    }
   ],
   "source": [
    "df6.isnull().sum()"
   ]
  },
  {
   "cell_type": "code",
   "execution_count": 52,
   "metadata": {},
   "outputs": [
    {
     "data": {
      "text/plain": [
       "displ             0\n",
       "GallonsPerYear    0\n",
       "dtype: int64"
      ]
     },
     "execution_count": 52,
     "metadata": {},
     "output_type": "execute_result"
    }
   ],
   "source": [
    "df6 = df6.dropna().copy()\n",
    "df6.isnull().sum()"
   ]
  },
  {
   "cell_type": "code",
   "execution_count": 53,
   "metadata": {},
   "outputs": [
    {
     "name": "stdout",
     "output_type": "stream",
     "text": [
      "             displ  GallonsPerYear\n",
      "count  7760.000000     7760.000000\n",
      "mean      2.817384      670.700475\n",
      "std       1.247668      155.019614\n",
      "min       0.900000      214.851113\n",
      "25%       2.000000      568.394325\n",
      "50%       2.400000      659.220000\n",
      "75%       3.000000      728.611579\n",
      "max       8.000000     1730.452500\n",
      "\n",
      "displ mean is -0.000000.\n",
      "displ  std is 1.000000.\n",
      "GallonsPerYear mean is 0.000000.\n",
      "GallonsPerYear standard deviation is 1.000000.\n"
     ]
    }
   ],
   "source": [
    "scaler = StandardScaler()\n",
    "\n",
    "scaler.fit(df6)\n",
    "scaled_array = scaler.transform(df6)\n",
    "\n",
    "print(df6.describe())\n",
    "average = np.mean(scaled_array[:,0])\n",
    "std = np.std(scaled_array[:,0])\n",
    "print('\\ndispl mean is {:.6f}.'.format(average))\n",
    "print('displ  std is {:.6f}.'.format(std))\n",
    "print('GallonsPerYear mean is {:.6f}.'.format(np.mean(scaled_array[:,1])))\n",
    "print('GallonsPerYear standard deviation is {:.6f}.'.\\\n",
    "      format(np.std(scaled_array[:,1])))"
   ]
  },
  {
   "cell_type": "code",
   "execution_count": 54,
   "metadata": {},
   "outputs": [
    {
     "data": {
      "image/png": "[encoded data removed]",
      "text/plain": [
       "<Figure size 720x504 with 1 Axes>"
      ]
     },
     "metadata": {
      "needs_background": "light"
     },
     "output_type": "display_data"
    }
   ],
   "source": [
    "df5 = scaled_array\n",
    "no_clusters = 6\n",
    "\n",
    "\n",
    "noClusters = range(1,no_clusters + 1)\n",
    "kmeans = [KMeans(n_clusters = i) for i in noClusters] \n",
    "score = [kmeans[i].fit(df5).score(df5) for i in range(len(kmeans))]\n",
    "plt.plot(noClusters, score)\n",
    "plt.xlabel('Number of Clusters')\n",
    "plt.ylabel(\"Score\")\n",
    "plt.title('Elbow Curve')\n",
    "plt.show()"
   ]
  },
  {
   "cell_type": "code",
   "execution_count": 55,
   "metadata": {},
   "outputs": [],
   "source": [
    "kmeans = KMeans(n_clusters = 3, \\\n",
    "            random_state = 42) # <-- use this number to get my result\n",
    "kmeans = kmeans.fit(scaled_array)"
   ]
  },
  {
   "cell_type": "code",
   "execution_count": 56,
   "metadata": {},
   "outputs": [
    {
     "data": {
      "text/plain": [
       "KMeans(algorithm='auto', copy_x=True, init='k-means++', max_iter=300,\n",
       "       n_clusters=3, n_init=10, n_jobs=None, precompute_distances='auto',\n",
       "       random_state=42, tol=0.0001, verbose=0)"
      ]
     },
     "execution_count": 56,
     "metadata": {},
     "output_type": "execute_result"
    }
   ],
   "source": [
    "kmeans"
   ]
  },
  {
   "cell_type": "code",
   "execution_count": 57,
   "metadata": {},
   "outputs": [
    {
     "data": {
      "text/plain": [
       "array([[  2.92674189, 710.8509886 ],\n",
       "       [  5.45277778, 946.61774052],\n",
       "       [  1.9079556 , 544.1123917 ]])"
      ]
     },
     "execution_count": 57,
     "metadata": {},
     "output_type": "execute_result"
    }
   ],
   "source": [
    "unscaled = scaler.inverse_transform(kmeans.cluster_centers_)\n",
    "unscaled"
   ]
  },
  {
   "cell_type": "code",
   "execution_count": 58,
   "metadata": {},
   "outputs": [],
   "source": [
    "centroids = pd.DataFrame({'centroidx':unscaled[:,0],\\\n",
    "            'centroidy':unscaled[:,1]})"
   ]
  },
  {
   "cell_type": "code",
   "execution_count": 59,
   "metadata": {},
   "outputs": [
    {
     "data": {
      "text/html": [
       "<div>\n",
       "<style scoped>\n",
       "    .dataframe tbody tr th:only-of-type {\n",
       "        vertical-align: middle;\n",
       "    }\n",
       "\n",
       "    .dataframe tbody tr th {\n",
       "        vertical-align: top;\n",
       "    }\n",
       "\n",
       "    .dataframe thead th {\n",
       "        text-align: right;\n",
       "    }\n",
       "</style>\n",
       "<table border=\"1\" class=\"dataframe\">\n",
       "  <thead>\n",
       "    <tr style=\"text-align: right;\">\n",
       "      <th></th>\n",
       "      <th>centroidx</th>\n",
       "      <th>centroidy</th>\n",
       "    </tr>\n",
       "  </thead>\n",
       "  <tbody>\n",
       "    <tr>\n",
       "      <th>0</th>\n",
       "      <td>2.926742</td>\n",
       "      <td>710.850989</td>\n",
       "    </tr>\n",
       "    <tr>\n",
       "      <th>1</th>\n",
       "      <td>5.452778</td>\n",
       "      <td>946.617741</td>\n",
       "    </tr>\n",
       "    <tr>\n",
       "      <th>2</th>\n",
       "      <td>1.907956</td>\n",
       "      <td>544.112392</td>\n",
       "    </tr>\n",
       "  </tbody>\n",
       "</table>\n",
       "</div>"
      ],
      "text/plain": [
       "   centroidx   centroidy\n",
       "0   2.926742  710.850989\n",
       "1   5.452778  946.617741\n",
       "2   1.907956  544.112392"
      ]
     },
     "execution_count": 59,
     "metadata": {},
     "output_type": "execute_result"
    }
   ],
   "source": [
    "centroids.head()"
   ]
  },
  {
   "cell_type": "code",
   "execution_count": 60,
   "metadata": {},
   "outputs": [
    {
     "data": {
      "text/html": [
       "<div>\n",
       "<style scoped>\n",
       "    .dataframe tbody tr th:only-of-type {\n",
       "        vertical-align: middle;\n",
       "    }\n",
       "\n",
       "    .dataframe tbody tr th {\n",
       "        vertical-align: top;\n",
       "    }\n",
       "\n",
       "    .dataframe thead th {\n",
       "        text-align: right;\n",
       "    }\n",
       "</style>\n",
       "<table border=\"1\" class=\"dataframe\">\n",
       "  <thead>\n",
       "    <tr style=\"text-align: right;\">\n",
       "      <th></th>\n",
       "      <th>displ</th>\n",
       "      <th>GallonsPerYear</th>\n",
       "      <th>labels</th>\n",
       "    </tr>\n",
       "  </thead>\n",
       "  <tbody>\n",
       "    <tr>\n",
       "      <th>4</th>\n",
       "      <td>2.2</td>\n",
       "      <td>728.611579</td>\n",
       "      <td>0</td>\n",
       "    </tr>\n",
       "    <tr>\n",
       "      <th>61</th>\n",
       "      <td>3.8</td>\n",
       "      <td>814.330588</td>\n",
       "      <td>0</td>\n",
       "    </tr>\n",
       "    <tr>\n",
       "      <th>62</th>\n",
       "      <td>3.8</td>\n",
       "      <td>769.090000</td>\n",
       "      <td>0</td>\n",
       "    </tr>\n",
       "    <tr>\n",
       "      <th>100</th>\n",
       "      <td>6.8</td>\n",
       "      <td>1258.510909</td>\n",
       "      <td>1</td>\n",
       "    </tr>\n",
       "    <tr>\n",
       "      <th>115</th>\n",
       "      <td>2.3</td>\n",
       "      <td>728.611579</td>\n",
       "      <td>0</td>\n",
       "    </tr>\n",
       "  </tbody>\n",
       "</table>\n",
       "</div>"
      ],
      "text/plain": [
       "     displ  GallonsPerYear  labels\n",
       "4      2.2      728.611579       0\n",
       "61     3.8      814.330588       0\n",
       "62     3.8      769.090000       0\n",
       "100    6.8     1258.510909       1\n",
       "115    2.3      728.611579       0"
      ]
     },
     "execution_count": 60,
     "metadata": {},
     "output_type": "execute_result"
    }
   ],
   "source": [
    "df6['labels'] = kmeans.labels_.astype(np.int) # kmeans label_ generates the cluster numbers\n",
    "df6.head() # look to see which cluster each row is assigned to"
   ]
  },
  {
   "cell_type": "code",
   "execution_count": 61,
   "metadata": {},
   "outputs": [
    {
     "data": {
      "text/html": [
       "<div>\n",
       "<style scoped>\n",
       "    .dataframe tbody tr th:only-of-type {\n",
       "        vertical-align: middle;\n",
       "    }\n",
       "\n",
       "    .dataframe tbody tr th {\n",
       "        vertical-align: top;\n",
       "    }\n",
       "\n",
       "    .dataframe thead th {\n",
       "        text-align: right;\n",
       "    }\n",
       "</style>\n",
       "<table border=\"1\" class=\"dataframe\">\n",
       "  <thead>\n",
       "    <tr style=\"text-align: right;\">\n",
       "      <th></th>\n",
       "      <th>displ</th>\n",
       "      <th>GallonsPerYear</th>\n",
       "      <th>labels</th>\n",
       "      <th>enginetype</th>\n",
       "    </tr>\n",
       "  </thead>\n",
       "  <tbody>\n",
       "    <tr>\n",
       "      <th>4</th>\n",
       "      <td>2.2</td>\n",
       "      <td>728.611579</td>\n",
       "      <td>0</td>\n",
       "      <td>Turbo</td>\n",
       "    </tr>\n",
       "    <tr>\n",
       "      <th>61</th>\n",
       "      <td>3.8</td>\n",
       "      <td>814.330588</td>\n",
       "      <td>0</td>\n",
       "      <td>Super</td>\n",
       "    </tr>\n",
       "    <tr>\n",
       "      <th>62</th>\n",
       "      <td>3.8</td>\n",
       "      <td>769.090000</td>\n",
       "      <td>0</td>\n",
       "      <td>Super</td>\n",
       "    </tr>\n",
       "    <tr>\n",
       "      <th>100</th>\n",
       "      <td>6.8</td>\n",
       "      <td>1258.510909</td>\n",
       "      <td>1</td>\n",
       "      <td>Turbo</td>\n",
       "    </tr>\n",
       "    <tr>\n",
       "      <th>115</th>\n",
       "      <td>2.3</td>\n",
       "      <td>728.611579</td>\n",
       "      <td>0</td>\n",
       "      <td>Turbo</td>\n",
       "    </tr>\n",
       "  </tbody>\n",
       "</table>\n",
       "</div>"
      ],
      "text/plain": [
       "     displ  GallonsPerYear  labels enginetype\n",
       "4      2.2      728.611579       0      Turbo\n",
       "61     3.8      814.330588       0      Super\n",
       "62     3.8      769.090000       0      Super\n",
       "100    6.8     1258.510909       1      Turbo\n",
       "115    2.3      728.611579       0      Turbo"
      ]
     },
     "execution_count": 61,
     "metadata": {},
     "output_type": "execute_result"
    }
   ],
   "source": [
    "df6['enginetype'] = engtype['enginetype'] # and the cereal name\n",
    "df6['enginetype'] = df6['enginetype'].astype(str).str[0:6] # cut to six chars\n",
    "\n",
    "df6.head()"
   ]
  },
  {
   "cell_type": "code",
   "execution_count": 62,
   "metadata": {},
   "outputs": [
    {
     "data": {
      "image/png": "[encoded data removed]",
      "text/plain": [
       "<Figure size 720x504 with 1 Axes>"
      ]
     },
     "metadata": {
      "needs_background": "light"
     },
     "output_type": "display_data"
    }
   ],
   "source": [
    "plt.scatter(df6['displ'], df6['GallonsPerYear'], c=df6.labels) # (x,y,color)\n",
    "plt.scatter(centroids['centroidx'], \\\n",
    "            centroids['centroidy'], c='red') # (x,y,color)\n",
    "\n",
    "plt.show()"
   ]
  },
  {
   "cell_type": "code",
   "execution_count": 63,
   "metadata": {},
   "outputs": [],
   "source": [
    "ENGINETYPE_COLOR_MAP = {'Super' : 'Blue',\n",
    "                   'Turbo' : 'Green' ,\n",
    "                  'Twin' : 'Yellow',\n",
    "                  \n",
    "                 }\n",
    "                  \n",
    "\n",
    "ENGINETYPE_COLOR = [ENGINETYPE_COLOR_MAP[l] for l in df6.enginetype]"
   ]
  },
  {
   "cell_type": "code",
   "execution_count": 64,
   "metadata": {},
   "outputs": [
    {
     "data": {
      "image/png": "[encoded data removed]",
      "text/plain": [
       "<Figure size 720x504 with 1 Axes>"
      ]
     },
     "metadata": {
      "needs_background": "light"
     },
     "output_type": "display_data"
    }
   ],
   "source": [
    "fig_size = plt.rcParams[\"figure.figsize\"]\n",
    " \n",
    "fig_size[0] = 10\n",
    "fig_size[1] = 7\n",
    "plt.rcParams[\"figure.figsize\"] = fig_size\n",
    "fig, ax = plt.subplots()\n",
    "plt.scatter(centroids['centroidx'], centroids['centroidy'], c='red') \n",
    "plt.xlabel('displ')\n",
    "plt.ylabel('GallonsPerYear')\n",
    "ax.scatter(df6['displ'], df6['GallonsPerYear'], c=ENGINETYPE_COLOR)\n",
    "# 'C' OR COLOR CHANGED TO THE 'TYPE_COLOR' VARIABLE, WHICH CHANGES THE COLORS OF THE INDIVIDUAL POINTS REPRESENTING EACH BIRD TYPE TO IT'S RESPECTIVE COLOR\n",
    "\n",
    "\n",
    "plt.show()"
   ]
  },
  {
   "cell_type": "markdown",
   "metadata": {},
   "source": [
    "# Average MPG vs Average emissions per mile"
   ]
  },
  {
   "cell_type": "code",
   "execution_count": 65,
   "metadata": {},
   "outputs": [
    {
     "data": {
      "text/html": [
       "<div>\n",
       "<style scoped>\n",
       "    .dataframe tbody tr th:only-of-type {\n",
       "        vertical-align: middle;\n",
       "    }\n",
       "\n",
       "    .dataframe tbody tr th {\n",
       "        vertical-align: top;\n",
       "    }\n",
       "\n",
       "    .dataframe thead th {\n",
       "        text-align: right;\n",
       "    }\n",
       "</style>\n",
       "<table border=\"1\" class=\"dataframe\">\n",
       "  <thead>\n",
       "    <tr style=\"text-align: right;\">\n",
       "      <th></th>\n",
       "      <th>avgmpg</th>\n",
       "      <th>avg_emissionratio</th>\n",
       "    </tr>\n",
       "  </thead>\n",
       "  <tbody>\n",
       "    <tr>\n",
       "      <th>4</th>\n",
       "      <td>20.0</td>\n",
       "      <td>23.925158</td>\n",
       "    </tr>\n",
       "    <tr>\n",
       "      <th>61</th>\n",
       "      <td>18.0</td>\n",
       "      <td>29.872269</td>\n",
       "    </tr>\n",
       "    <tr>\n",
       "      <th>62</th>\n",
       "      <td>18.5</td>\n",
       "      <td>27.678367</td>\n",
       "    </tr>\n",
       "    <tr>\n",
       "      <th>100</th>\n",
       "      <td>12.5</td>\n",
       "      <td>67.325758</td>\n",
       "    </tr>\n",
       "    <tr>\n",
       "      <th>115</th>\n",
       "      <td>19.5</td>\n",
       "      <td>24.387349</td>\n",
       "    </tr>\n",
       "  </tbody>\n",
       "</table>\n",
       "</div>"
      ],
      "text/plain": [
       "     avgmpg  avg_emissionratio\n",
       "4      20.0          23.925158\n",
       "61     18.0          29.872269\n",
       "62     18.5          27.678367\n",
       "100    12.5          67.325758\n",
       "115    19.5          24.387349"
      ]
     },
     "execution_count": 65,
     "metadata": {},
     "output_type": "execute_result"
    }
   ],
   "source": [
    "df8 = engtype[['avgmpg','avg_emissionratio']].copy()\n",
    "df8.head()"
   ]
  },
  {
   "cell_type": "code",
   "execution_count": 66,
   "metadata": {},
   "outputs": [
    {
     "data": {
      "text/plain": [
       "avgmpg               0\n",
       "avg_emissionratio    0\n",
       "dtype: int64"
      ]
     },
     "execution_count": 66,
     "metadata": {},
     "output_type": "execute_result"
    }
   ],
   "source": [
    "df8.isnull().sum()"
   ]
  },
  {
   "cell_type": "code",
   "execution_count": 67,
   "metadata": {},
   "outputs": [
    {
     "name": "stdout",
     "output_type": "stream",
     "text": [
      "            avgmpg  avg_emissionratio\n",
      "count  7762.000000        7762.000000\n",
      "mean     22.757730          21.431883\n",
      "std       4.836279          10.705569\n",
      "min       8.500000           3.547792\n",
      "25%      19.500000          14.452496\n",
      "50%      22.000000          19.600401\n",
      "75%      25.500000          24.784969\n",
      "max      45.000000         134.891964\n",
      "\u0007vgmpg mean is -0.000000.\n",
      "avgmpg  std is 1.000000.\n",
      "avg_emissionratio mean is 0.000000.\n",
      "avg_emissionratio standard deviation is 1.000000.\n"
     ]
    }
   ],
   "source": [
    "scaler = StandardScaler()\n",
    "\n",
    "scaler.fit(df8)\n",
    "scaled_array = scaler.transform(df8)\n",
    "\n",
    "print(df8.describe())\n",
    "average = np.mean(scaled_array[:,0])\n",
    "std = np.std(scaled_array[:,0])\n",
    "print('\\avgmpg mean is {:.6f}.'.format(average))\n",
    "print('avgmpg  std is {:.6f}.'.format(std))\n",
    "print('avg_emissionratio mean is {:.6f}.'.format(np.mean(scaled_array[:,1])))\n",
    "print('avg_emissionratio standard deviation is {:.6f}.'.\\\n",
    "      format(np.std(scaled_array[:,1])))"
   ]
  },
  {
   "cell_type": "code",
   "execution_count": 68,
   "metadata": {},
   "outputs": [
    {
     "data": {
      "image/png": "[encoded data removed]",
      "text/plain": [
       "<Figure size 720x504 with 1 Axes>"
      ]
     },
     "metadata": {
      "needs_background": "light"
     },
     "output_type": "display_data"
    }
   ],
   "source": [
    "df7 = scaled_array\n",
    "no_clusters = 6\n",
    "\n",
    "\n",
    "noClusters = range(1,no_clusters + 1)\n",
    "kmeans = [KMeans(n_clusters = i) for i in noClusters] \n",
    "score = [kmeans[i].fit(df7).score(df7) for i in range(len(kmeans))]\n",
    "plt.plot(noClusters, score)\n",
    "plt.xlabel('Number of Clusters')\n",
    "plt.ylabel(\"Score\")\n",
    "plt.title('Elbow Curve')\n",
    "plt.show()"
   ]
  },
  {
   "cell_type": "code",
   "execution_count": 69,
   "metadata": {},
   "outputs": [],
   "source": [
    "kmeans = KMeans(n_clusters = 4, \\\n",
    "            random_state = 42) # <-- use this number to get my result\n",
    "kmeans = kmeans.fit(scaled_array)"
   ]
  },
  {
   "cell_type": "code",
   "execution_count": 70,
   "metadata": {},
   "outputs": [
    {
     "data": {
      "text/plain": [
       "KMeans(algorithm='auto', copy_x=True, init='k-means++', max_iter=300,\n",
       "       n_clusters=4, n_init=10, n_jobs=None, precompute_distances='auto',\n",
       "       random_state=42, tol=0.0001, verbose=0)"
      ]
     },
     "execution_count": 70,
     "metadata": {},
     "output_type": "execute_result"
    }
   ],
   "source": [
    "kmeans"
   ]
  },
  {
   "cell_type": "code",
   "execution_count": 71,
   "metadata": {},
   "outputs": [
    {
     "data": {
      "text/plain": [
       "array([[23.85874745, 16.99871221],\n",
       "       [14.13483146, 50.83542254],\n",
       "       [30.12312415, 10.7770856 ],\n",
       "       [19.41926346, 26.01513448]])"
      ]
     },
     "execution_count": 71,
     "metadata": {},
     "output_type": "execute_result"
    }
   ],
   "source": [
    "unscaled = scaler.inverse_transform(kmeans.cluster_centers_)\n",
    "unscaled"
   ]
  },
  {
   "cell_type": "code",
   "execution_count": 72,
   "metadata": {},
   "outputs": [],
   "source": [
    "centroids = pd.DataFrame({'centroidx':unscaled[:,0],\\\n",
    "            'centroidy':unscaled[:,1]})"
   ]
  },
  {
   "cell_type": "code",
   "execution_count": 73,
   "metadata": {},
   "outputs": [
    {
     "data": {
      "text/html": [
       "<div>\n",
       "<style scoped>\n",
       "    .dataframe tbody tr th:only-of-type {\n",
       "        vertical-align: middle;\n",
       "    }\n",
       "\n",
       "    .dataframe tbody tr th {\n",
       "        vertical-align: top;\n",
       "    }\n",
       "\n",
       "    .dataframe thead th {\n",
       "        text-align: right;\n",
       "    }\n",
       "</style>\n",
       "<table border=\"1\" class=\"dataframe\">\n",
       "  <thead>\n",
       "    <tr style=\"text-align: right;\">\n",
       "      <th></th>\n",
       "      <th>centroidx</th>\n",
       "      <th>centroidy</th>\n",
       "    </tr>\n",
       "  </thead>\n",
       "  <tbody>\n",
       "    <tr>\n",
       "      <th>0</th>\n",
       "      <td>23.858747</td>\n",
       "      <td>16.998712</td>\n",
       "    </tr>\n",
       "    <tr>\n",
       "      <th>1</th>\n",
       "      <td>14.134831</td>\n",
       "      <td>50.835423</td>\n",
       "    </tr>\n",
       "    <tr>\n",
       "      <th>2</th>\n",
       "      <td>30.123124</td>\n",
       "      <td>10.777086</td>\n",
       "    </tr>\n",
       "    <tr>\n",
       "      <th>3</th>\n",
       "      <td>19.419263</td>\n",
       "      <td>26.015134</td>\n",
       "    </tr>\n",
       "  </tbody>\n",
       "</table>\n",
       "</div>"
      ],
      "text/plain": [
       "   centroidx  centroidy\n",
       "0  23.858747  16.998712\n",
       "1  14.134831  50.835423\n",
       "2  30.123124  10.777086\n",
       "3  19.419263  26.015134"
      ]
     },
     "execution_count": 73,
     "metadata": {},
     "output_type": "execute_result"
    }
   ],
   "source": [
    "centroids.head()"
   ]
  },
  {
   "cell_type": "code",
   "execution_count": 74,
   "metadata": {},
   "outputs": [
    {
     "data": {
      "text/html": [
       "<div>\n",
       "<style scoped>\n",
       "    .dataframe tbody tr th:only-of-type {\n",
       "        vertical-align: middle;\n",
       "    }\n",
       "\n",
       "    .dataframe tbody tr th {\n",
       "        vertical-align: top;\n",
       "    }\n",
       "\n",
       "    .dataframe thead th {\n",
       "        text-align: right;\n",
       "    }\n",
       "</style>\n",
       "<table border=\"1\" class=\"dataframe\">\n",
       "  <thead>\n",
       "    <tr style=\"text-align: right;\">\n",
       "      <th></th>\n",
       "      <th>avgmpg</th>\n",
       "      <th>avg_emissionratio</th>\n",
       "      <th>labels</th>\n",
       "    </tr>\n",
       "  </thead>\n",
       "  <tbody>\n",
       "    <tr>\n",
       "      <th>4</th>\n",
       "      <td>20.0</td>\n",
       "      <td>23.925158</td>\n",
       "      <td>3</td>\n",
       "    </tr>\n",
       "    <tr>\n",
       "      <th>61</th>\n",
       "      <td>18.0</td>\n",
       "      <td>29.872269</td>\n",
       "      <td>3</td>\n",
       "    </tr>\n",
       "    <tr>\n",
       "      <th>62</th>\n",
       "      <td>18.5</td>\n",
       "      <td>27.678367</td>\n",
       "      <td>3</td>\n",
       "    </tr>\n",
       "    <tr>\n",
       "      <th>100</th>\n",
       "      <td>12.5</td>\n",
       "      <td>67.325758</td>\n",
       "      <td>1</td>\n",
       "    </tr>\n",
       "    <tr>\n",
       "      <th>115</th>\n",
       "      <td>19.5</td>\n",
       "      <td>24.387349</td>\n",
       "      <td>3</td>\n",
       "    </tr>\n",
       "  </tbody>\n",
       "</table>\n",
       "</div>"
      ],
      "text/plain": [
       "     avgmpg  avg_emissionratio  labels\n",
       "4      20.0          23.925158       3\n",
       "61     18.0          29.872269       3\n",
       "62     18.5          27.678367       3\n",
       "100    12.5          67.325758       1\n",
       "115    19.5          24.387349       3"
      ]
     },
     "execution_count": 74,
     "metadata": {},
     "output_type": "execute_result"
    }
   ],
   "source": [
    "df8['labels'] = kmeans.labels_.astype(np.int) # kmeans label_ generates the cluster numbers\n",
    "df8.head() # look to see which cluster each row is assigned to"
   ]
  },
  {
   "cell_type": "code",
   "execution_count": 75,
   "metadata": {},
   "outputs": [
    {
     "data": {
      "text/html": [
       "<div>\n",
       "<style scoped>\n",
       "    .dataframe tbody tr th:only-of-type {\n",
       "        vertical-align: middle;\n",
       "    }\n",
       "\n",
       "    .dataframe tbody tr th {\n",
       "        vertical-align: top;\n",
       "    }\n",
       "\n",
       "    .dataframe thead th {\n",
       "        text-align: right;\n",
       "    }\n",
       "</style>\n",
       "<table border=\"1\" class=\"dataframe\">\n",
       "  <thead>\n",
       "    <tr style=\"text-align: right;\">\n",
       "      <th></th>\n",
       "      <th>avgmpg</th>\n",
       "      <th>avg_emissionratio</th>\n",
       "      <th>labels</th>\n",
       "      <th>enginetype</th>\n",
       "    </tr>\n",
       "  </thead>\n",
       "  <tbody>\n",
       "    <tr>\n",
       "      <th>4</th>\n",
       "      <td>20.0</td>\n",
       "      <td>23.925158</td>\n",
       "      <td>3</td>\n",
       "      <td>Turbo</td>\n",
       "    </tr>\n",
       "    <tr>\n",
       "      <th>61</th>\n",
       "      <td>18.0</td>\n",
       "      <td>29.872269</td>\n",
       "      <td>3</td>\n",
       "      <td>Super</td>\n",
       "    </tr>\n",
       "    <tr>\n",
       "      <th>62</th>\n",
       "      <td>18.5</td>\n",
       "      <td>27.678367</td>\n",
       "      <td>3</td>\n",
       "      <td>Super</td>\n",
       "    </tr>\n",
       "    <tr>\n",
       "      <th>100</th>\n",
       "      <td>12.5</td>\n",
       "      <td>67.325758</td>\n",
       "      <td>1</td>\n",
       "      <td>Turbo</td>\n",
       "    </tr>\n",
       "    <tr>\n",
       "      <th>115</th>\n",
       "      <td>19.5</td>\n",
       "      <td>24.387349</td>\n",
       "      <td>3</td>\n",
       "      <td>Turbo</td>\n",
       "    </tr>\n",
       "  </tbody>\n",
       "</table>\n",
       "</div>"
      ],
      "text/plain": [
       "     avgmpg  avg_emissionratio  labels enginetype\n",
       "4      20.0          23.925158       3      Turbo\n",
       "61     18.0          29.872269       3      Super\n",
       "62     18.5          27.678367       3      Super\n",
       "100    12.5          67.325758       1      Turbo\n",
       "115    19.5          24.387349       3      Turbo"
      ]
     },
     "execution_count": 75,
     "metadata": {},
     "output_type": "execute_result"
    }
   ],
   "source": [
    "df8['enginetype'] = engtype['enginetype'] # and the cereal name\n",
    "df8['enginetype'] = df8['enginetype'].astype(str).str[0:6] # cut to six chars\n",
    "\n",
    "df8.head()"
   ]
  },
  {
   "cell_type": "code",
   "execution_count": 76,
   "metadata": {},
   "outputs": [
    {
     "data": {
      "image/png": "[encoded data removed]",
      "text/plain": [
       "<Figure size 720x504 with 1 Axes>"
      ]
     },
     "metadata": {
      "needs_background": "light"
     },
     "output_type": "display_data"
    }
   ],
   "source": [
    "plt.scatter(df8['avgmpg'], df8['avg_emissionratio'], c=df8.labels) # (x,y,color)\n",
    "plt.scatter(centroids['centroidx'], \\\n",
    "            centroids['centroidy'], c='red') # (x,y,color)\n",
    "\n",
    "plt.show()"
   ]
  },
  {
   "cell_type": "code",
   "execution_count": 77,
   "metadata": {},
   "outputs": [],
   "source": [
    "ENGINETYPE_COLOR_MAP = {'Super' : 'Blue',\n",
    "                   'Turbo' : 'Green' , \n",
    "                  'Twin' : 'Yellow',\n",
    "                  \n",
    "                 }\n",
    "                  \n",
    "\n",
    "ENGINETYPE_COLOR = [ENGINETYPE_COLOR_MAP[l] for l in df8.enginetype]"
   ]
  },
  {
   "cell_type": "code",
   "execution_count": 78,
   "metadata": {},
   "outputs": [
    {
     "data": {
      "image/png": "[encoded data removed]",
      "text/plain": [
       "<Figure size 720x504 with 1 Axes>"
      ]
     },
     "metadata": {
      "needs_background": "light"
     },
     "output_type": "display_data"
    }
   ],
   "source": [
    "fig_size = plt.rcParams[\"figure.figsize\"]\n",
    " \n",
    "fig_size[0] = 10\n",
    "fig_size[1] = 7\n",
    "plt.rcParams[\"figure.figsize\"] = fig_size\n",
    "fig, ax = plt.subplots()\n",
    "plt.scatter(centroids['centroidx'], centroids['centroidy'], c='red') \n",
    "plt.xlabel('avgmpg')\n",
    "plt.ylabel('avg_emissionratio')\n",
    "ax.scatter(df8['avgmpg'], df8['avg_emissionratio'], c=ENGINETYPE_COLOR, alpha =1)\n",
    "# 'C' OR COLOR CHANGED TO THE 'TYPE_COLOR' VARIABLE, WHICH CHANGES THE COLORS OF THE INDIVIDUAL POINTS REPRESENTING EACH BIRD TYPE TO IT'S RESPECTIVE COLOR\n",
    "\n",
    "\n",
    "plt.show()"
   ]
  },
  {
   "cell_type": "markdown",
   "metadata": {},
   "source": [
    "# Regression Analysis\n"
   ]
  },
  {
   "cell_type": "code",
   "execution_count": 79,
   "metadata": {},
   "outputs": [
    {
     "data": {
      "text/html": [
       "<div>\n",
       "<style scoped>\n",
       "    .dataframe tbody tr th:only-of-type {\n",
       "        vertical-align: middle;\n",
       "    }\n",
       "\n",
       "    .dataframe tbody tr th {\n",
       "        vertical-align: top;\n",
       "    }\n",
       "\n",
       "    .dataframe thead th {\n",
       "        text-align: right;\n",
       "    }\n",
       "</style>\n",
       "<table border=\"1\" class=\"dataframe\">\n",
       "  <thead>\n",
       "    <tr style=\"text-align: right;\">\n",
       "      <th></th>\n",
       "      <th>enginetype</th>\n",
       "      <th>city08</th>\n",
       "      <th>highway08</th>\n",
       "      <th>make</th>\n",
       "      <th>model</th>\n",
       "      <th>VClass</th>\n",
       "      <th>fuelType1</th>\n",
       "      <th>co2TailpipeGpm</th>\n",
       "      <th>displ</th>\n",
       "      <th>barrels08</th>\n",
       "      <th>cylinders</th>\n",
       "      <th>CityEmission_ratio</th>\n",
       "      <th>HighwayEmission_ratio</th>\n",
       "      <th>GallonsPerYear</th>\n",
       "      <th>avgmpg</th>\n",
       "      <th>avg_emissionratio</th>\n",
       "    </tr>\n",
       "  </thead>\n",
       "  <tbody>\n",
       "    <tr>\n",
       "      <th>4</th>\n",
       "      <td>Turbo</td>\n",
       "      <td>17</td>\n",
       "      <td>23</td>\n",
       "      <td>Subaru</td>\n",
       "      <td>Legacy AWD Turbo</td>\n",
       "      <td>Compact Cars</td>\n",
       "      <td>Premium Gasoline</td>\n",
       "      <td>467.736842</td>\n",
       "      <td>2.2</td>\n",
       "      <td>17.347895</td>\n",
       "      <td>4.0</td>\n",
       "      <td>27.513932</td>\n",
       "      <td>20.336384</td>\n",
       "      <td>728.611579</td>\n",
       "      <td>20.0</td>\n",
       "      <td>23.925158</td>\n",
       "    </tr>\n",
       "    <tr>\n",
       "      <th>61</th>\n",
       "      <td>Super</td>\n",
       "      <td>15</td>\n",
       "      <td>21</td>\n",
       "      <td>Ford</td>\n",
       "      <td>Thunderbird</td>\n",
       "      <td>Midsize Cars</td>\n",
       "      <td>Premium Gasoline</td>\n",
       "      <td>522.764706</td>\n",
       "      <td>3.8</td>\n",
       "      <td>19.388824</td>\n",
       "      <td>6.0</td>\n",
       "      <td>34.850980</td>\n",
       "      <td>24.893557</td>\n",
       "      <td>814.330588</td>\n",
       "      <td>18.0</td>\n",
       "      <td>29.872269</td>\n",
       "    </tr>\n",
       "    <tr>\n",
       "      <th>62</th>\n",
       "      <td>Super</td>\n",
       "      <td>15</td>\n",
       "      <td>22</td>\n",
       "      <td>Ford</td>\n",
       "      <td>Thunderbird</td>\n",
       "      <td>Midsize Cars</td>\n",
       "      <td>Premium Gasoline</td>\n",
       "      <td>493.722222</td>\n",
       "      <td>3.8</td>\n",
       "      <td>18.311667</td>\n",
       "      <td>6.0</td>\n",
       "      <td>32.914815</td>\n",
       "      <td>22.441919</td>\n",
       "      <td>769.090000</td>\n",
       "      <td>18.5</td>\n",
       "      <td>27.678367</td>\n",
       "    </tr>\n",
       "    <tr>\n",
       "      <th>100</th>\n",
       "      <td>Turbo</td>\n",
       "      <td>10</td>\n",
       "      <td>15</td>\n",
       "      <td>Rolls-Royce</td>\n",
       "      <td>Turbo R/Turbo R(lwb)</td>\n",
       "      <td>Midsize Cars</td>\n",
       "      <td>Premium Gasoline</td>\n",
       "      <td>807.909091</td>\n",
       "      <td>6.8</td>\n",
       "      <td>29.964545</td>\n",
       "      <td>8.0</td>\n",
       "      <td>80.790909</td>\n",
       "      <td>53.860606</td>\n",
       "      <td>1258.510909</td>\n",
       "      <td>12.5</td>\n",
       "      <td>67.325758</td>\n",
       "    </tr>\n",
       "    <tr>\n",
       "      <th>115</th>\n",
       "      <td>Turbo</td>\n",
       "      <td>17</td>\n",
       "      <td>22</td>\n",
       "      <td>Volvo</td>\n",
       "      <td>940</td>\n",
       "      <td>Midsize Cars</td>\n",
       "      <td>Regular Gasoline</td>\n",
       "      <td>467.736842</td>\n",
       "      <td>2.3</td>\n",
       "      <td>17.347895</td>\n",
       "      <td>4.0</td>\n",
       "      <td>27.513932</td>\n",
       "      <td>21.260766</td>\n",
       "      <td>728.611579</td>\n",
       "      <td>19.5</td>\n",
       "      <td>24.387349</td>\n",
       "    </tr>\n",
       "  </tbody>\n",
       "</table>\n",
       "</div>"
      ],
      "text/plain": [
       "    enginetype  city08  highway08         make                 model  \\\n",
       "4        Turbo      17         23       Subaru      Legacy AWD Turbo   \n",
       "61       Super      15         21         Ford           Thunderbird   \n",
       "62       Super      15         22         Ford           Thunderbird   \n",
       "100      Turbo      10         15  Rolls-Royce  Turbo R/Turbo R(lwb)   \n",
       "115      Turbo      17         22        Volvo                   940   \n",
       "\n",
       "           VClass         fuelType1  co2TailpipeGpm  displ  barrels08  \\\n",
       "4    Compact Cars  Premium Gasoline      467.736842    2.2  17.347895   \n",
       "61   Midsize Cars  Premium Gasoline      522.764706    3.8  19.388824   \n",
       "62   Midsize Cars  Premium Gasoline      493.722222    3.8  18.311667   \n",
       "100  Midsize Cars  Premium Gasoline      807.909091    6.8  29.964545   \n",
       "115  Midsize Cars  Regular Gasoline      467.736842    2.3  17.347895   \n",
       "\n",
       "     cylinders  CityEmission_ratio  HighwayEmission_ratio  GallonsPerYear  \\\n",
       "4          4.0           27.513932              20.336384      728.611579   \n",
       "61         6.0           34.850980              24.893557      814.330588   \n",
       "62         6.0           32.914815              22.441919      769.090000   \n",
       "100        8.0           80.790909              53.860606     1258.510909   \n",
       "115        4.0           27.513932              21.260766      728.611579   \n",
       "\n",
       "     avgmpg  avg_emissionratio  \n",
       "4      20.0          23.925158  \n",
       "61     18.0          29.872269  \n",
       "62     18.5          27.678367  \n",
       "100    12.5          67.325758  \n",
       "115    19.5          24.387349  "
      ]
     },
     "execution_count": 79,
     "metadata": {},
     "output_type": "execute_result"
    }
   ],
   "source": [
    "engtype.head()"
   ]
  },
  {
   "cell_type": "code",
   "execution_count": 80,
   "metadata": {},
   "outputs": [],
   "source": [
    "logengtype = engtype.copy()"
   ]
  },
  {
   "cell_type": "code",
   "execution_count": 81,
   "metadata": {},
   "outputs": [],
   "source": [
    "logengtype.loc[logengtype.enginetype == 'Super', 'supercharged'] = '1' \n",
    "logengtype.loc[logengtype.enginetype == 'Turbo', 'turbocharged'] = '1' \n",
    "logengtype.loc[logengtype.enginetype == 'Twin', 'twincharged'] = '1' \n"
   ]
  },
  {
   "cell_type": "code",
   "execution_count": 82,
   "metadata": {},
   "outputs": [],
   "source": [
    "logengtype['supercharged'] = logengtype['supercharged'].fillna(0)\n",
    "logengtype['turbocharged'] =  logengtype['turbocharged'].fillna(0)\n",
    "logengtype['twincharged']  =  logengtype['twincharged'].fillna(0)"
   ]
  },
  {
   "cell_type": "code",
   "execution_count": 83,
   "metadata": {},
   "outputs": [
    {
     "data": {
      "text/html": [
       "<div>\n",
       "<style scoped>\n",
       "    .dataframe tbody tr th:only-of-type {\n",
       "        vertical-align: middle;\n",
       "    }\n",
       "\n",
       "    .dataframe tbody tr th {\n",
       "        vertical-align: top;\n",
       "    }\n",
       "\n",
       "    .dataframe thead th {\n",
       "        text-align: right;\n",
       "    }\n",
       "</style>\n",
       "<table border=\"1\" class=\"dataframe\">\n",
       "  <thead>\n",
       "    <tr style=\"text-align: right;\">\n",
       "      <th></th>\n",
       "      <th>enginetype</th>\n",
       "      <th>city08</th>\n",
       "      <th>highway08</th>\n",
       "      <th>make</th>\n",
       "      <th>model</th>\n",
       "      <th>VClass</th>\n",
       "      <th>fuelType1</th>\n",
       "      <th>co2TailpipeGpm</th>\n",
       "      <th>displ</th>\n",
       "      <th>barrels08</th>\n",
       "      <th>cylinders</th>\n",
       "      <th>CityEmission_ratio</th>\n",
       "      <th>HighwayEmission_ratio</th>\n",
       "      <th>GallonsPerYear</th>\n",
       "      <th>avgmpg</th>\n",
       "      <th>avg_emissionratio</th>\n",
       "      <th>supercharged</th>\n",
       "      <th>turbocharged</th>\n",
       "      <th>twincharged</th>\n",
       "    </tr>\n",
       "  </thead>\n",
       "  <tbody>\n",
       "    <tr>\n",
       "      <th>4</th>\n",
       "      <td>Turbo</td>\n",
       "      <td>17</td>\n",
       "      <td>23</td>\n",
       "      <td>Subaru</td>\n",
       "      <td>Legacy AWD Turbo</td>\n",
       "      <td>Compact Cars</td>\n",
       "      <td>Premium Gasoline</td>\n",
       "      <td>467.736842</td>\n",
       "      <td>2.2</td>\n",
       "      <td>17.347895</td>\n",
       "      <td>4.0</td>\n",
       "      <td>27.513932</td>\n",
       "      <td>20.336384</td>\n",
       "      <td>728.611579</td>\n",
       "      <td>20.0</td>\n",
       "      <td>23.925158</td>\n",
       "      <td>0</td>\n",
       "      <td>1</td>\n",
       "      <td>0</td>\n",
       "    </tr>\n",
       "    <tr>\n",
       "      <th>61</th>\n",
       "      <td>Super</td>\n",
       "      <td>15</td>\n",
       "      <td>21</td>\n",
       "      <td>Ford</td>\n",
       "      <td>Thunderbird</td>\n",
       "      <td>Midsize Cars</td>\n",
       "      <td>Premium Gasoline</td>\n",
       "      <td>522.764706</td>\n",
       "      <td>3.8</td>\n",
       "      <td>19.388824</td>\n",
       "      <td>6.0</td>\n",
       "      <td>34.850980</td>\n",
       "      <td>24.893557</td>\n",
       "      <td>814.330588</td>\n",
       "      <td>18.0</td>\n",
       "      <td>29.872269</td>\n",
       "      <td>1</td>\n",
       "      <td>0</td>\n",
       "      <td>0</td>\n",
       "    </tr>\n",
       "    <tr>\n",
       "      <th>62</th>\n",
       "      <td>Super</td>\n",
       "      <td>15</td>\n",
       "      <td>22</td>\n",
       "      <td>Ford</td>\n",
       "      <td>Thunderbird</td>\n",
       "      <td>Midsize Cars</td>\n",
       "      <td>Premium Gasoline</td>\n",
       "      <td>493.722222</td>\n",
       "      <td>3.8</td>\n",
       "      <td>18.311667</td>\n",
       "      <td>6.0</td>\n",
       "      <td>32.914815</td>\n",
       "      <td>22.441919</td>\n",
       "      <td>769.090000</td>\n",
       "      <td>18.5</td>\n",
       "      <td>27.678367</td>\n",
       "      <td>1</td>\n",
       "      <td>0</td>\n",
       "      <td>0</td>\n",
       "    </tr>\n",
       "    <tr>\n",
       "      <th>100</th>\n",
       "      <td>Turbo</td>\n",
       "      <td>10</td>\n",
       "      <td>15</td>\n",
       "      <td>Rolls-Royce</td>\n",
       "      <td>Turbo R/Turbo R(lwb)</td>\n",
       "      <td>Midsize Cars</td>\n",
       "      <td>Premium Gasoline</td>\n",
       "      <td>807.909091</td>\n",
       "      <td>6.8</td>\n",
       "      <td>29.964545</td>\n",
       "      <td>8.0</td>\n",
       "      <td>80.790909</td>\n",
       "      <td>53.860606</td>\n",
       "      <td>1258.510909</td>\n",
       "      <td>12.5</td>\n",
       "      <td>67.325758</td>\n",
       "      <td>0</td>\n",
       "      <td>1</td>\n",
       "      <td>0</td>\n",
       "    </tr>\n",
       "    <tr>\n",
       "      <th>115</th>\n",
       "      <td>Turbo</td>\n",
       "      <td>17</td>\n",
       "      <td>22</td>\n",
       "      <td>Volvo</td>\n",
       "      <td>940</td>\n",
       "      <td>Midsize Cars</td>\n",
       "      <td>Regular Gasoline</td>\n",
       "      <td>467.736842</td>\n",
       "      <td>2.3</td>\n",
       "      <td>17.347895</td>\n",
       "      <td>4.0</td>\n",
       "      <td>27.513932</td>\n",
       "      <td>21.260766</td>\n",
       "      <td>728.611579</td>\n",
       "      <td>19.5</td>\n",
       "      <td>24.387349</td>\n",
       "      <td>0</td>\n",
       "      <td>1</td>\n",
       "      <td>0</td>\n",
       "    </tr>\n",
       "  </tbody>\n",
       "</table>\n",
       "</div>"
      ],
      "text/plain": [
       "    enginetype  city08  highway08         make                 model  \\\n",
       "4        Turbo      17         23       Subaru      Legacy AWD Turbo   \n",
       "61       Super      15         21         Ford           Thunderbird   \n",
       "62       Super      15         22         Ford           Thunderbird   \n",
       "100      Turbo      10         15  Rolls-Royce  Turbo R/Turbo R(lwb)   \n",
       "115      Turbo      17         22        Volvo                   940   \n",
       "\n",
       "           VClass         fuelType1  co2TailpipeGpm  displ  barrels08  \\\n",
       "4    Compact Cars  Premium Gasoline      467.736842    2.2  17.347895   \n",
       "61   Midsize Cars  Premium Gasoline      522.764706    3.8  19.388824   \n",
       "62   Midsize Cars  Premium Gasoline      493.722222    3.8  18.311667   \n",
       "100  Midsize Cars  Premium Gasoline      807.909091    6.8  29.964545   \n",
       "115  Midsize Cars  Regular Gasoline      467.736842    2.3  17.347895   \n",
       "\n",
       "     cylinders  CityEmission_ratio  HighwayEmission_ratio  GallonsPerYear  \\\n",
       "4          4.0           27.513932              20.336384      728.611579   \n",
       "61         6.0           34.850980              24.893557      814.330588   \n",
       "62         6.0           32.914815              22.441919      769.090000   \n",
       "100        8.0           80.790909              53.860606     1258.510909   \n",
       "115        4.0           27.513932              21.260766      728.611579   \n",
       "\n",
       "     avgmpg  avg_emissionratio supercharged turbocharged twincharged  \n",
       "4      20.0          23.925158            0            1           0  \n",
       "61     18.0          29.872269            1            0           0  \n",
       "62     18.5          27.678367            1            0           0  \n",
       "100    12.5          67.325758            0            1           0  \n",
       "115    19.5          24.387349            0            1           0  "
      ]
     },
     "execution_count": 83,
     "metadata": {},
     "output_type": "execute_result"
    }
   ],
   "source": [
    "logengtype.head()"
   ]
  },
  {
   "cell_type": "code",
   "execution_count": 84,
   "metadata": {},
   "outputs": [],
   "source": [
    "X = logengtype[['avg_emissionratio', 'CityEmission_ratio', 'HighwayEmission_ratio', 'co2TailpipeGpm' ]].copy()\n",
    "Y = logengtype['avgmpg'].copy()\n",
    "\n"
   ]
  },
  {
   "cell_type": "code",
   "execution_count": 85,
   "metadata": {},
   "outputs": [
    {
     "data": {
      "text/html": [
       "<div>\n",
       "<style scoped>\n",
       "    .dataframe tbody tr th:only-of-type {\n",
       "        vertical-align: middle;\n",
       "    }\n",
       "\n",
       "    .dataframe tbody tr th {\n",
       "        vertical-align: top;\n",
       "    }\n",
       "\n",
       "    .dataframe thead th {\n",
       "        text-align: right;\n",
       "    }\n",
       "</style>\n",
       "<table border=\"1\" class=\"dataframe\">\n",
       "  <thead>\n",
       "    <tr style=\"text-align: right;\">\n",
       "      <th></th>\n",
       "      <th>Super</th>\n",
       "      <th>Turbo</th>\n",
       "      <th>Twin</th>\n",
       "    </tr>\n",
       "  </thead>\n",
       "  <tbody>\n",
       "    <tr>\n",
       "      <th>4</th>\n",
       "      <td>0</td>\n",
       "      <td>1</td>\n",
       "      <td>0</td>\n",
       "    </tr>\n",
       "    <tr>\n",
       "      <th>61</th>\n",
       "      <td>1</td>\n",
       "      <td>0</td>\n",
       "      <td>0</td>\n",
       "    </tr>\n",
       "    <tr>\n",
       "      <th>62</th>\n",
       "      <td>1</td>\n",
       "      <td>0</td>\n",
       "      <td>0</td>\n",
       "    </tr>\n",
       "    <tr>\n",
       "      <th>100</th>\n",
       "      <td>0</td>\n",
       "      <td>1</td>\n",
       "      <td>0</td>\n",
       "    </tr>\n",
       "    <tr>\n",
       "      <th>115</th>\n",
       "      <td>0</td>\n",
       "      <td>1</td>\n",
       "      <td>0</td>\n",
       "    </tr>\n",
       "  </tbody>\n",
       "</table>\n",
       "</div>"
      ],
      "text/plain": [
       "     Super  Turbo  Twin\n",
       "4        0      1     0\n",
       "61       1      0     0\n",
       "62       1      0     0\n",
       "100      0      1     0\n",
       "115      0      1     0"
      ]
     },
     "execution_count": 85,
     "metadata": {},
     "output_type": "execute_result"
    }
   ],
   "source": [
    "dummy = pd.get_dummies(logengtype['enginetype'])\n",
    "dummy.head()\n"
   ]
  },
  {
   "cell_type": "code",
   "execution_count": 86,
   "metadata": {},
   "outputs": [
    {
     "data": {
      "text/html": [
       "<div>\n",
       "<style scoped>\n",
       "    .dataframe tbody tr th:only-of-type {\n",
       "        vertical-align: middle;\n",
       "    }\n",
       "\n",
       "    .dataframe tbody tr th {\n",
       "        vertical-align: top;\n",
       "    }\n",
       "\n",
       "    .dataframe thead th {\n",
       "        text-align: right;\n",
       "    }\n",
       "</style>\n",
       "<table border=\"1\" class=\"dataframe\">\n",
       "  <thead>\n",
       "    <tr style=\"text-align: right;\">\n",
       "      <th></th>\n",
       "      <th>enginetype</th>\n",
       "      <th>city08</th>\n",
       "      <th>highway08</th>\n",
       "      <th>make</th>\n",
       "      <th>model</th>\n",
       "      <th>VClass</th>\n",
       "      <th>fuelType1</th>\n",
       "      <th>co2TailpipeGpm</th>\n",
       "      <th>displ</th>\n",
       "      <th>barrels08</th>\n",
       "      <th>...</th>\n",
       "      <th>HighwayEmission_ratio</th>\n",
       "      <th>GallonsPerYear</th>\n",
       "      <th>avgmpg</th>\n",
       "      <th>avg_emissionratio</th>\n",
       "      <th>supercharged</th>\n",
       "      <th>turbocharged</th>\n",
       "      <th>twincharged</th>\n",
       "      <th>Super</th>\n",
       "      <th>Turbo</th>\n",
       "      <th>Twin</th>\n",
       "    </tr>\n",
       "  </thead>\n",
       "  <tbody>\n",
       "    <tr>\n",
       "      <th>4</th>\n",
       "      <td>Turbo</td>\n",
       "      <td>17</td>\n",
       "      <td>23</td>\n",
       "      <td>Subaru</td>\n",
       "      <td>Legacy AWD Turbo</td>\n",
       "      <td>Compact Cars</td>\n",
       "      <td>Premium Gasoline</td>\n",
       "      <td>467.736842</td>\n",
       "      <td>2.2</td>\n",
       "      <td>17.347895</td>\n",
       "      <td>...</td>\n",
       "      <td>20.336384</td>\n",
       "      <td>728.611579</td>\n",
       "      <td>20.0</td>\n",
       "      <td>23.925158</td>\n",
       "      <td>0</td>\n",
       "      <td>1</td>\n",
       "      <td>0</td>\n",
       "      <td>0</td>\n",
       "      <td>1</td>\n",
       "      <td>0</td>\n",
       "    </tr>\n",
       "    <tr>\n",
       "      <th>61</th>\n",
       "      <td>Super</td>\n",
       "      <td>15</td>\n",
       "      <td>21</td>\n",
       "      <td>Ford</td>\n",
       "      <td>Thunderbird</td>\n",
       "      <td>Midsize Cars</td>\n",
       "      <td>Premium Gasoline</td>\n",
       "      <td>522.764706</td>\n",
       "      <td>3.8</td>\n",
       "      <td>19.388824</td>\n",
       "      <td>...</td>\n",
       "      <td>24.893557</td>\n",
       "      <td>814.330588</td>\n",
       "      <td>18.0</td>\n",
       "      <td>29.872269</td>\n",
       "      <td>1</td>\n",
       "      <td>0</td>\n",
       "      <td>0</td>\n",
       "      <td>1</td>\n",
       "      <td>0</td>\n",
       "      <td>0</td>\n",
       "    </tr>\n",
       "    <tr>\n",
       "      <th>62</th>\n",
       "      <td>Super</td>\n",
       "      <td>15</td>\n",
       "      <td>22</td>\n",
       "      <td>Ford</td>\n",
       "      <td>Thunderbird</td>\n",
       "      <td>Midsize Cars</td>\n",
       "      <td>Premium Gasoline</td>\n",
       "      <td>493.722222</td>\n",
       "      <td>3.8</td>\n",
       "      <td>18.311667</td>\n",
       "      <td>...</td>\n",
       "      <td>22.441919</td>\n",
       "      <td>769.090000</td>\n",
       "      <td>18.5</td>\n",
       "      <td>27.678367</td>\n",
       "      <td>1</td>\n",
       "      <td>0</td>\n",
       "      <td>0</td>\n",
       "      <td>1</td>\n",
       "      <td>0</td>\n",
       "      <td>0</td>\n",
       "    </tr>\n",
       "    <tr>\n",
       "      <th>100</th>\n",
       "      <td>Turbo</td>\n",
       "      <td>10</td>\n",
       "      <td>15</td>\n",
       "      <td>Rolls-Royce</td>\n",
       "      <td>Turbo R/Turbo R(lwb)</td>\n",
       "      <td>Midsize Cars</td>\n",
       "      <td>Premium Gasoline</td>\n",
       "      <td>807.909091</td>\n",
       "      <td>6.8</td>\n",
       "      <td>29.964545</td>\n",
       "      <td>...</td>\n",
       "      <td>53.860606</td>\n",
       "      <td>1258.510909</td>\n",
       "      <td>12.5</td>\n",
       "      <td>67.325758</td>\n",
       "      <td>0</td>\n",
       "      <td>1</td>\n",
       "      <td>0</td>\n",
       "      <td>0</td>\n",
       "      <td>1</td>\n",
       "      <td>0</td>\n",
       "    </tr>\n",
       "    <tr>\n",
       "      <th>115</th>\n",
       "      <td>Turbo</td>\n",
       "      <td>17</td>\n",
       "      <td>22</td>\n",
       "      <td>Volvo</td>\n",
       "      <td>940</td>\n",
       "      <td>Midsize Cars</td>\n",
       "      <td>Regular Gasoline</td>\n",
       "      <td>467.736842</td>\n",
       "      <td>2.3</td>\n",
       "      <td>17.347895</td>\n",
       "      <td>...</td>\n",
       "      <td>21.260766</td>\n",
       "      <td>728.611579</td>\n",
       "      <td>19.5</td>\n",
       "      <td>24.387349</td>\n",
       "      <td>0</td>\n",
       "      <td>1</td>\n",
       "      <td>0</td>\n",
       "      <td>0</td>\n",
       "      <td>1</td>\n",
       "      <td>0</td>\n",
       "    </tr>\n",
       "  </tbody>\n",
       "</table>\n",
       "<p>5 rows × 22 columns</p>\n",
       "</div>"
      ],
      "text/plain": [
       "    enginetype  city08  highway08         make                 model  \\\n",
       "4        Turbo      17         23       Subaru      Legacy AWD Turbo   \n",
       "61       Super      15         21         Ford           Thunderbird   \n",
       "62       Super      15         22         Ford           Thunderbird   \n",
       "100      Turbo      10         15  Rolls-Royce  Turbo R/Turbo R(lwb)   \n",
       "115      Turbo      17         22        Volvo                   940   \n",
       "\n",
       "           VClass         fuelType1  co2TailpipeGpm  displ  barrels08  ...  \\\n",
       "4    Compact Cars  Premium Gasoline      467.736842    2.2  17.347895  ...   \n",
       "61   Midsize Cars  Premium Gasoline      522.764706    3.8  19.388824  ...   \n",
       "62   Midsize Cars  Premium Gasoline      493.722222    3.8  18.311667  ...   \n",
       "100  Midsize Cars  Premium Gasoline      807.909091    6.8  29.964545  ...   \n",
       "115  Midsize Cars  Regular Gasoline      467.736842    2.3  17.347895  ...   \n",
       "\n",
       "     HighwayEmission_ratio  GallonsPerYear  avgmpg  avg_emissionratio  \\\n",
       "4                20.336384      728.611579    20.0          23.925158   \n",
       "61               24.893557      814.330588    18.0          29.872269   \n",
       "62               22.441919      769.090000    18.5          27.678367   \n",
       "100              53.860606     1258.510909    12.5          67.325758   \n",
       "115              21.260766      728.611579    19.5          24.387349   \n",
       "\n",
       "     supercharged  turbocharged twincharged Super Turbo  Twin  \n",
       "4               0             1           0     0     1     0  \n",
       "61              1             0           0     1     0     0  \n",
       "62              1             0           0     1     0     0  \n",
       "100             0             1           0     0     1     0  \n",
       "115             0             1           0     0     1     0  \n",
       "\n",
       "[5 rows x 22 columns]"
      ]
     },
     "execution_count": 86,
     "metadata": {},
     "output_type": "execute_result"
    }
   ],
   "source": [
    "logengtype = pd.concat([logengtype, dummy], axis=1)\n",
    "logengtype.head()"
   ]
  },
  {
   "cell_type": "code",
   "execution_count": 87,
   "metadata": {},
   "outputs": [
    {
     "data": {
      "text/html": [
       "<div>\n",
       "<style scoped>\n",
       "    .dataframe tbody tr th:only-of-type {\n",
       "        vertical-align: middle;\n",
       "    }\n",
       "\n",
       "    .dataframe tbody tr th {\n",
       "        vertical-align: top;\n",
       "    }\n",
       "\n",
       "    .dataframe thead th {\n",
       "        text-align: right;\n",
       "    }\n",
       "</style>\n",
       "<table border=\"1\" class=\"dataframe\">\n",
       "  <thead>\n",
       "    <tr style=\"text-align: right;\">\n",
       "      <th></th>\n",
       "      <th>enginetype</th>\n",
       "      <th>city08</th>\n",
       "      <th>highway08</th>\n",
       "      <th>make</th>\n",
       "      <th>model</th>\n",
       "      <th>VClass</th>\n",
       "      <th>fuelType1</th>\n",
       "      <th>co2TailpipeGpm</th>\n",
       "      <th>displ</th>\n",
       "      <th>barrels08</th>\n",
       "      <th>cylinders</th>\n",
       "      <th>CityEmission_ratio</th>\n",
       "      <th>HighwayEmission_ratio</th>\n",
       "      <th>GallonsPerYear</th>\n",
       "      <th>avgmpg</th>\n",
       "      <th>avg_emissionratio</th>\n",
       "      <th>supercharged</th>\n",
       "      <th>turbocharged</th>\n",
       "      <th>twincharged</th>\n",
       "    </tr>\n",
       "  </thead>\n",
       "  <tbody>\n",
       "    <tr>\n",
       "      <th>4</th>\n",
       "      <td>Turbo</td>\n",
       "      <td>17</td>\n",
       "      <td>23</td>\n",
       "      <td>Subaru</td>\n",
       "      <td>Legacy AWD Turbo</td>\n",
       "      <td>Compact Cars</td>\n",
       "      <td>Premium Gasoline</td>\n",
       "      <td>467.736842</td>\n",
       "      <td>2.2</td>\n",
       "      <td>17.347895</td>\n",
       "      <td>4.0</td>\n",
       "      <td>27.513932</td>\n",
       "      <td>20.336384</td>\n",
       "      <td>728.611579</td>\n",
       "      <td>20.0</td>\n",
       "      <td>23.925158</td>\n",
       "      <td>0</td>\n",
       "      <td>1</td>\n",
       "      <td>0</td>\n",
       "    </tr>\n",
       "    <tr>\n",
       "      <th>61</th>\n",
       "      <td>Super</td>\n",
       "      <td>15</td>\n",
       "      <td>21</td>\n",
       "      <td>Ford</td>\n",
       "      <td>Thunderbird</td>\n",
       "      <td>Midsize Cars</td>\n",
       "      <td>Premium Gasoline</td>\n",
       "      <td>522.764706</td>\n",
       "      <td>3.8</td>\n",
       "      <td>19.388824</td>\n",
       "      <td>6.0</td>\n",
       "      <td>34.850980</td>\n",
       "      <td>24.893557</td>\n",
       "      <td>814.330588</td>\n",
       "      <td>18.0</td>\n",
       "      <td>29.872269</td>\n",
       "      <td>1</td>\n",
       "      <td>0</td>\n",
       "      <td>0</td>\n",
       "    </tr>\n",
       "    <tr>\n",
       "      <th>62</th>\n",
       "      <td>Super</td>\n",
       "      <td>15</td>\n",
       "      <td>22</td>\n",
       "      <td>Ford</td>\n",
       "      <td>Thunderbird</td>\n",
       "      <td>Midsize Cars</td>\n",
       "      <td>Premium Gasoline</td>\n",
       "      <td>493.722222</td>\n",
       "      <td>3.8</td>\n",
       "      <td>18.311667</td>\n",
       "      <td>6.0</td>\n",
       "      <td>32.914815</td>\n",
       "      <td>22.441919</td>\n",
       "      <td>769.090000</td>\n",
       "      <td>18.5</td>\n",
       "      <td>27.678367</td>\n",
       "      <td>1</td>\n",
       "      <td>0</td>\n",
       "      <td>0</td>\n",
       "    </tr>\n",
       "    <tr>\n",
       "      <th>100</th>\n",
       "      <td>Turbo</td>\n",
       "      <td>10</td>\n",
       "      <td>15</td>\n",
       "      <td>Rolls-Royce</td>\n",
       "      <td>Turbo R/Turbo R(lwb)</td>\n",
       "      <td>Midsize Cars</td>\n",
       "      <td>Premium Gasoline</td>\n",
       "      <td>807.909091</td>\n",
       "      <td>6.8</td>\n",
       "      <td>29.964545</td>\n",
       "      <td>8.0</td>\n",
       "      <td>80.790909</td>\n",
       "      <td>53.860606</td>\n",
       "      <td>1258.510909</td>\n",
       "      <td>12.5</td>\n",
       "      <td>67.325758</td>\n",
       "      <td>0</td>\n",
       "      <td>1</td>\n",
       "      <td>0</td>\n",
       "    </tr>\n",
       "    <tr>\n",
       "      <th>115</th>\n",
       "      <td>Turbo</td>\n",
       "      <td>17</td>\n",
       "      <td>22</td>\n",
       "      <td>Volvo</td>\n",
       "      <td>940</td>\n",
       "      <td>Midsize Cars</td>\n",
       "      <td>Regular Gasoline</td>\n",
       "      <td>467.736842</td>\n",
       "      <td>2.3</td>\n",
       "      <td>17.347895</td>\n",
       "      <td>4.0</td>\n",
       "      <td>27.513932</td>\n",
       "      <td>21.260766</td>\n",
       "      <td>728.611579</td>\n",
       "      <td>19.5</td>\n",
       "      <td>24.387349</td>\n",
       "      <td>0</td>\n",
       "      <td>1</td>\n",
       "      <td>0</td>\n",
       "    </tr>\n",
       "  </tbody>\n",
       "</table>\n",
       "</div>"
      ],
      "text/plain": [
       "    enginetype  city08  highway08         make                 model  \\\n",
       "4        Turbo      17         23       Subaru      Legacy AWD Turbo   \n",
       "61       Super      15         21         Ford           Thunderbird   \n",
       "62       Super      15         22         Ford           Thunderbird   \n",
       "100      Turbo      10         15  Rolls-Royce  Turbo R/Turbo R(lwb)   \n",
       "115      Turbo      17         22        Volvo                   940   \n",
       "\n",
       "           VClass         fuelType1  co2TailpipeGpm  displ  barrels08  \\\n",
       "4    Compact Cars  Premium Gasoline      467.736842    2.2  17.347895   \n",
       "61   Midsize Cars  Premium Gasoline      522.764706    3.8  19.388824   \n",
       "62   Midsize Cars  Premium Gasoline      493.722222    3.8  18.311667   \n",
       "100  Midsize Cars  Premium Gasoline      807.909091    6.8  29.964545   \n",
       "115  Midsize Cars  Regular Gasoline      467.736842    2.3  17.347895   \n",
       "\n",
       "     cylinders  CityEmission_ratio  HighwayEmission_ratio  GallonsPerYear  \\\n",
       "4          4.0           27.513932              20.336384      728.611579   \n",
       "61         6.0           34.850980              24.893557      814.330588   \n",
       "62         6.0           32.914815              22.441919      769.090000   \n",
       "100        8.0           80.790909              53.860606     1258.510909   \n",
       "115        4.0           27.513932              21.260766      728.611579   \n",
       "\n",
       "     avgmpg  avg_emissionratio supercharged turbocharged twincharged  \n",
       "4      20.0          23.925158            0            1           0  \n",
       "61     18.0          29.872269            1            0           0  \n",
       "62     18.5          27.678367            1            0           0  \n",
       "100    12.5          67.325758            0            1           0  \n",
       "115    19.5          24.387349            0            1           0  "
      ]
     },
     "execution_count": 87,
     "metadata": {},
     "output_type": "execute_result"
    }
   ],
   "source": [
    "logengtype2 = logengtype.drop(columns =['supercharged', 'turbocharged', 'twincharged'])\n",
    "logengtype2 = logengtype.drop(columns =['Super', 'Turbo', 'Twin'])\n",
    "logengtype2.head()"
   ]
  },
  {
   "cell_type": "code",
   "execution_count": 88,
   "metadata": {},
   "outputs": [
    {
     "name": "stdout",
     "output_type": "stream",
     "text": [
      "                                 OLS Regression Results                                \n",
      "=======================================================================================\n",
      "Dep. Variable:                 avgmpg   R-squared (uncentered):                   0.961\n",
      "Model:                            OLS   Adj. R-squared (uncentered):              0.961\n",
      "Method:                 Least Squares   F-statistic:                          6.421e+04\n",
      "Date:                Mon, 19 Sep 2022   Prob (F-statistic):                        0.00\n",
      "Time:                        21:33:14   Log-Likelihood:                         -22822.\n",
      "No. Observations:                7762   AIC:                                  4.565e+04\n",
      "Df Residuals:                    7759   BIC:                                  4.567e+04\n",
      "Df Model:                           3                                                  \n",
      "Covariance Type:            nonrobust                                                  \n",
      "=========================================================================================\n",
      "                            coef    std err          t      P>|t|      [0.025      0.975]\n",
      "-----------------------------------------------------------------------------------------\n",
      "avg_emissionratio        -0.5113      0.005   -109.707      0.000      -0.520      -0.502\n",
      "CityEmission_ratio       -0.3420      0.021    -16.617      0.000      -0.382      -0.302\n",
      "HighwayEmission_ratio    -0.6806      0.028    -24.574      0.000      -0.735      -0.626\n",
      "co2TailpipeGpm            0.1257      0.001    249.396      0.000       0.125       0.127\n",
      "==============================================================================\n",
      "Omnibus:                     4466.572   Durbin-Watson:                   1.224\n",
      "Prob(Omnibus):                  0.000   Jarque-Bera (JB):            81289.410\n",
      "Skew:                           2.388   Prob(JB):                         0.00\n",
      "Kurtosis:                      18.118   Cond. No.                     7.97e+16\n",
      "==============================================================================\n",
      "\n",
      "Warnings:\n",
      "[1] Standard Errors assume that the covariance matrix of the errors is correctly specified.\n",
      "[2] The smallest eigenvalue is 2.4e-25. This might indicate that there are\n",
      "strong multicollinearity problems or that the design matrix is singular.\n",
      "\n",
      "Average error level: 3.31.\n"
     ]
    }
   ],
   "source": [
    "# Run regression using statsmodels\n",
    "import statsmodels.api as sm\n",
    "\n",
    "est = sm.OLS(Y,X).fit() # fit model\n",
    "predictions = est.predict() # get predicted values\n",
    "errors = abs(Y - predictions) # find the deviation from the predicted values\n",
    "avgError = errors.mean() # what is the average error?\n",
    "print(est.summary())\n",
    "print(\"\\nAverage error level: {:.2f}.\".format(avgError))"
   ]
  }
 ],
 "metadata": {
  "kernelspec": {
   "display_name": "Python 3",
   "language": "python",
   "name": "python3"
  },
  "language_info": {
   "codemirror_mode": {
    "name": "ipython",
    "version": 3
   },
   "file_extension": ".py",
   "mimetype": "text/x-python",
   "name": "python",
   "nbconvert_exporter": "python",
   "pygments_lexer": "ipython3",
   "version": "3.7.3"
  }
 },
 "nbformat": 4,
 "nbformat_minor": 2
}
